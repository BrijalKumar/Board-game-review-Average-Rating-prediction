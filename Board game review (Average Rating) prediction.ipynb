{
  "nbformat": 4,
  "nbformat_minor": 0,
  "metadata": {
    "kernelspec": {
      "display_name": "Python 3",
      "language": "python",
      "name": "python3"
    },
    "language_info": {
      "codemirror_mode": {
        "name": "ipython",
        "version": 3
      },
      "file_extension": ".py",
      "mimetype": "text/x-python",
      "name": "python",
      "nbconvert_exporter": "python",
      "pygments_lexer": "ipython3",
      "version": "3.7.6"
    },
    "papermill": {
      "duration": 284.829066,
      "end_time": "2020-09-26T09:08:49.338153",
      "environment_variables": {},
      "exception": null,
      "input_path": "__notebook__.ipynb",
      "output_path": "__notebook__.ipynb",
      "parameters": {},
      "start_time": "2020-09-26T09:04:04.509087",
      "version": "2.1.0"
    },
    "colab": {
      "name": "bgg-rating-prediciton.ipynb",
      "provenance": [],
      "collapsed_sections": []
    }
  },
  "cells": [
    {
      "cell_type": "markdown",
      "metadata": {
        "papermill": {
          "duration": 0.0654,
          "end_time": "2020-09-26T09:04:10.297878",
          "exception": false,
          "start_time": "2020-09-26T09:04:10.232478",
          "status": "completed"
        },
        "tags": [],
        "id": "IWIuRax24-8F"
      },
      "source": [
        "# •\tBoard game review (Average Rating) prediction "
      ]
    },
    {
      "cell_type": "markdown",
      "metadata": {
        "papermill": {
          "duration": 0.058468,
          "end_time": "2020-09-26T09:04:10.418777",
          "exception": false,
          "start_time": "2020-09-26T09:04:10.360309",
          "status": "completed"
        },
        "tags": [],
        "id": "NaHxJuAA4-8I"
      },
      "source": [
        "## Step 1: Frame the problem"
      ]
    },
    {
      "cell_type": "markdown",
      "metadata": {
        "papermill": {
          "duration": 0.055153,
          "end_time": "2020-09-26T09:04:10.531415",
          "exception": false,
          "start_time": "2020-09-26T09:04:10.476262",
          "status": "completed"
        },
        "tags": [],
        "id": "U70BJK984-8J"
      },
      "source": [
        "- Objective: Predict the average rating a board game will receive based on certain aspects such as number of participants in game, difficulty, playing time etc.\n",
        "\t\t\n",
        "- In current world we have access to wide variety of products from many possible domains. Be it shopping, watching movies or playing games we can do all these things online. With ability for consumer to share his/her reviews about the product or service he/she receives has made massive influence on shopping behaviours of consumers.\n",
        "\n",
        "- Products with very good rating high chances of ranking higher up in the Top product list. Having many positive reviews about product will give boost to the sell of product by attracting new consumers. Postive reviews gives customer a trust about quality of the product. But on same line, few negative reviews will repel the consumer from product. The major benifit of review or rating system can be seen on decline in malfunctioning.\n",
        "\n",
        "- On BoradGameGeek website, from where the data has been collected for this problem, ratings of games plays very crucial role in attracting new players towards those high rated game. The rating of games are on scale of 1 to 10 with 1 being 'Awful' and 10 being 'Outstanding'. For more information about the ratings, visit https://boardgamegeek.com/wiki/page/Ratings&redirectedfrom=rating#\n",
        "\n",
        "\n",
        "- Data Description:\n",
        "There are total 20 features columns for each game.\n",
        "Following are the features associated with each game:\n",
        "    - type: Type of game\n",
        "    - name: Name of game\n",
        "    - yearpublished: Year when game is published\n",
        "    - minplayers & maxplayers: Minimum and maximum number of players allowed to particiate in the game\n",
        "    - playingtime: Allowed playing time (maximum)\n",
        "    - minplayingtime & maxplayingtime: Minimum and maximum allowed playing time\n",
        "    - minage: Minimum age of player required to play\n",
        "    - users_rated: Total number of users given rating to the game\n",
        "    - average_rating: Avergae rating for game\n",
        "    - bayes_average_rating: Bayesian average rating for game\n",
        "    - total_owners: Total number of players who own this game\n",
        "    - total_traders: Total number of players who want to trade this game\n",
        "    - total_wanters: Total number of players who wants this game in trade\n",
        "    - total_wishers: Total number of players who added this game in their wishlist\n",
        "    - total_comments: Total number of comments\n",
        "    - total_weights: Total number of people given Game Play Weight to this game\n",
        "    - average_weight: Average weight of this game\n",
        "\n",
        "Important Terms:\n",
        "- Rating: range 1-10. For more info: https://boardgamegeek.com/wiki/page/Ratings&redirectedfrom=rating#\n",
        "- Game Play Weight: range 1-5. Community rating for how difficult a game is to understand. Lower rating (lighter weight) means easier. For more info: https://boardgamegeek.com/wiki/page/Weight"
      ]
    },
    {
      "cell_type": "code",
      "metadata": {
        "execution": {
          "iopub.execute_input": "2020-09-26T09:04:10.658082Z",
          "iopub.status.busy": "2020-09-26T09:04:10.657188Z",
          "iopub.status.idle": "2020-09-26T09:04:11.841260Z",
          "shell.execute_reply": "2020-09-26T09:04:11.840573Z"
        },
        "papermill": {
          "duration": 1.251807,
          "end_time": "2020-09-26T09:04:11.841436",
          "exception": false,
          "start_time": "2020-09-26T09:04:10.589629",
          "status": "completed"
        },
        "tags": [],
        "id": "fAoYHhxo4-8K"
      },
      "source": [
        "%matplotlib inline\n",
        "import matplotlib.pyplot as plt\n",
        "import seaborn as sns\n",
        "import numpy as np\n",
        "import pandas as pd\n",
        "\n",
        "import warnings\n",
        "warnings.filterwarnings(\"ignore\")"
      ],
      "execution_count": null,
      "outputs": []
    },
    {
      "cell_type": "code",
      "metadata": {
        "execution": {
          "iopub.execute_input": "2020-09-26T09:04:11.962638Z",
          "iopub.status.busy": "2020-09-26T09:04:11.961920Z",
          "iopub.status.idle": "2020-09-26T09:04:12.251492Z",
          "shell.execute_reply": "2020-09-26T09:04:12.250875Z"
        },
        "papermill": {
          "duration": 0.355035,
          "end_time": "2020-09-26T09:04:12.251619",
          "exception": false,
          "start_time": "2020-09-26T09:04:11.896584",
          "status": "completed"
        },
        "tags": [],
        "id": "4RW2dod24-8L",
        "outputId": "e9bcea69-6913-41f0-8390-4e855a0a465a"
      },
      "source": [
        "data = pd.read_csv('../input/board-games-prediction-data/games.csv')\n",
        "print(data.shape)\n",
        "data.head()"
      ],
      "execution_count": null,
      "outputs": [
        {
          "output_type": "stream",
          "text": [
            "(81312, 20)\n"
          ],
          "name": "stdout"
        },
        {
          "output_type": "execute_result",
          "data": {
            "text/html": [
              "<div>\n",
              "<style scoped>\n",
              "    .dataframe tbody tr th:only-of-type {\n",
              "        vertical-align: middle;\n",
              "    }\n",
              "\n",
              "    .dataframe tbody tr th {\n",
              "        vertical-align: top;\n",
              "    }\n",
              "\n",
              "    .dataframe thead th {\n",
              "        text-align: right;\n",
              "    }\n",
              "</style>\n",
              "<table border=\"1\" class=\"dataframe\">\n",
              "  <thead>\n",
              "    <tr style=\"text-align: right;\">\n",
              "      <th></th>\n",
              "      <th>id</th>\n",
              "      <th>type</th>\n",
              "      <th>name</th>\n",
              "      <th>yearpublished</th>\n",
              "      <th>minplayers</th>\n",
              "      <th>maxplayers</th>\n",
              "      <th>playingtime</th>\n",
              "      <th>minplaytime</th>\n",
              "      <th>maxplaytime</th>\n",
              "      <th>minage</th>\n",
              "      <th>users_rated</th>\n",
              "      <th>average_rating</th>\n",
              "      <th>bayes_average_rating</th>\n",
              "      <th>total_owners</th>\n",
              "      <th>total_traders</th>\n",
              "      <th>total_wanters</th>\n",
              "      <th>total_wishers</th>\n",
              "      <th>total_comments</th>\n",
              "      <th>total_weights</th>\n",
              "      <th>average_weight</th>\n",
              "    </tr>\n",
              "  </thead>\n",
              "  <tbody>\n",
              "    <tr>\n",
              "      <th>0</th>\n",
              "      <td>12333</td>\n",
              "      <td>boardgame</td>\n",
              "      <td>Twilight Struggle</td>\n",
              "      <td>2005.0</td>\n",
              "      <td>2.0</td>\n",
              "      <td>2.0</td>\n",
              "      <td>180.0</td>\n",
              "      <td>180.0</td>\n",
              "      <td>180.0</td>\n",
              "      <td>13.0</td>\n",
              "      <td>20113</td>\n",
              "      <td>8.33774</td>\n",
              "      <td>8.22186</td>\n",
              "      <td>26647</td>\n",
              "      <td>372</td>\n",
              "      <td>1219</td>\n",
              "      <td>5865</td>\n",
              "      <td>5347</td>\n",
              "      <td>2562</td>\n",
              "      <td>3.4785</td>\n",
              "    </tr>\n",
              "    <tr>\n",
              "      <th>1</th>\n",
              "      <td>120677</td>\n",
              "      <td>boardgame</td>\n",
              "      <td>Terra Mystica</td>\n",
              "      <td>2012.0</td>\n",
              "      <td>2.0</td>\n",
              "      <td>5.0</td>\n",
              "      <td>150.0</td>\n",
              "      <td>60.0</td>\n",
              "      <td>150.0</td>\n",
              "      <td>12.0</td>\n",
              "      <td>14383</td>\n",
              "      <td>8.28798</td>\n",
              "      <td>8.14232</td>\n",
              "      <td>16519</td>\n",
              "      <td>132</td>\n",
              "      <td>1586</td>\n",
              "      <td>6277</td>\n",
              "      <td>2526</td>\n",
              "      <td>1423</td>\n",
              "      <td>3.8939</td>\n",
              "    </tr>\n",
              "    <tr>\n",
              "      <th>2</th>\n",
              "      <td>102794</td>\n",
              "      <td>boardgame</td>\n",
              "      <td>Caverna: The Cave Farmers</td>\n",
              "      <td>2013.0</td>\n",
              "      <td>1.0</td>\n",
              "      <td>7.0</td>\n",
              "      <td>210.0</td>\n",
              "      <td>30.0</td>\n",
              "      <td>210.0</td>\n",
              "      <td>12.0</td>\n",
              "      <td>9262</td>\n",
              "      <td>8.28994</td>\n",
              "      <td>8.06886</td>\n",
              "      <td>12230</td>\n",
              "      <td>99</td>\n",
              "      <td>1476</td>\n",
              "      <td>5600</td>\n",
              "      <td>1700</td>\n",
              "      <td>777</td>\n",
              "      <td>3.7761</td>\n",
              "    </tr>\n",
              "    <tr>\n",
              "      <th>3</th>\n",
              "      <td>25613</td>\n",
              "      <td>boardgame</td>\n",
              "      <td>Through the Ages: A Story of Civilization</td>\n",
              "      <td>2006.0</td>\n",
              "      <td>2.0</td>\n",
              "      <td>4.0</td>\n",
              "      <td>240.0</td>\n",
              "      <td>240.0</td>\n",
              "      <td>240.0</td>\n",
              "      <td>12.0</td>\n",
              "      <td>13294</td>\n",
              "      <td>8.20407</td>\n",
              "      <td>8.05804</td>\n",
              "      <td>14343</td>\n",
              "      <td>362</td>\n",
              "      <td>1084</td>\n",
              "      <td>5075</td>\n",
              "      <td>3378</td>\n",
              "      <td>1642</td>\n",
              "      <td>4.1590</td>\n",
              "    </tr>\n",
              "    <tr>\n",
              "      <th>4</th>\n",
              "      <td>3076</td>\n",
              "      <td>boardgame</td>\n",
              "      <td>Puerto Rico</td>\n",
              "      <td>2002.0</td>\n",
              "      <td>2.0</td>\n",
              "      <td>5.0</td>\n",
              "      <td>150.0</td>\n",
              "      <td>90.0</td>\n",
              "      <td>150.0</td>\n",
              "      <td>12.0</td>\n",
              "      <td>39883</td>\n",
              "      <td>8.14261</td>\n",
              "      <td>8.04524</td>\n",
              "      <td>44362</td>\n",
              "      <td>795</td>\n",
              "      <td>861</td>\n",
              "      <td>5414</td>\n",
              "      <td>9173</td>\n",
              "      <td>5213</td>\n",
              "      <td>3.2943</td>\n",
              "    </tr>\n",
              "  </tbody>\n",
              "</table>\n",
              "</div>"
            ],
            "text/plain": [
              "       id       type                                       name  \\\n",
              "0   12333  boardgame                          Twilight Struggle   \n",
              "1  120677  boardgame                              Terra Mystica   \n",
              "2  102794  boardgame                  Caverna: The Cave Farmers   \n",
              "3   25613  boardgame  Through the Ages: A Story of Civilization   \n",
              "4    3076  boardgame                                Puerto Rico   \n",
              "\n",
              "   yearpublished  minplayers  maxplayers  playingtime  minplaytime  \\\n",
              "0         2005.0         2.0         2.0        180.0        180.0   \n",
              "1         2012.0         2.0         5.0        150.0         60.0   \n",
              "2         2013.0         1.0         7.0        210.0         30.0   \n",
              "3         2006.0         2.0         4.0        240.0        240.0   \n",
              "4         2002.0         2.0         5.0        150.0         90.0   \n",
              "\n",
              "   maxplaytime  minage  users_rated  average_rating  bayes_average_rating  \\\n",
              "0        180.0    13.0        20113         8.33774               8.22186   \n",
              "1        150.0    12.0        14383         8.28798               8.14232   \n",
              "2        210.0    12.0         9262         8.28994               8.06886   \n",
              "3        240.0    12.0        13294         8.20407               8.05804   \n",
              "4        150.0    12.0        39883         8.14261               8.04524   \n",
              "\n",
              "   total_owners  total_traders  total_wanters  total_wishers  total_comments  \\\n",
              "0         26647            372           1219           5865            5347   \n",
              "1         16519            132           1586           6277            2526   \n",
              "2         12230             99           1476           5600            1700   \n",
              "3         14343            362           1084           5075            3378   \n",
              "4         44362            795            861           5414            9173   \n",
              "\n",
              "   total_weights  average_weight  \n",
              "0           2562          3.4785  \n",
              "1           1423          3.8939  \n",
              "2            777          3.7761  \n",
              "3           1642          4.1590  \n",
              "4           5213          3.2943  "
            ]
          },
          "metadata": {
            "tags": []
          },
          "execution_count": 2
        }
      ]
    },
    {
      "cell_type": "markdown",
      "metadata": {
        "papermill": {
          "duration": 0.056222,
          "end_time": "2020-09-26T09:04:12.364882",
          "exception": false,
          "start_time": "2020-09-26T09:04:12.308660",
          "status": "completed"
        },
        "tags": [],
        "id": "IwiMx0mS4-8M"
      },
      "source": [
        "## Step 2: Data Exploration"
      ]
    },
    {
      "cell_type": "code",
      "metadata": {
        "execution": {
          "iopub.execute_input": "2020-09-26T09:04:12.486402Z",
          "iopub.status.busy": "2020-09-26T09:04:12.485590Z",
          "iopub.status.idle": "2020-09-26T09:04:12.492124Z",
          "shell.execute_reply": "2020-09-26T09:04:12.491390Z"
        },
        "papermill": {
          "duration": 0.069425,
          "end_time": "2020-09-26T09:04:12.492273",
          "exception": false,
          "start_time": "2020-09-26T09:04:12.422848",
          "status": "completed"
        },
        "tags": [],
        "id": "8yBe2TVP4-8N"
      },
      "source": [
        "data_explore = data.copy()"
      ],
      "execution_count": null,
      "outputs": []
    },
    {
      "cell_type": "markdown",
      "metadata": {
        "papermill": {
          "duration": 0.059941,
          "end_time": "2020-09-26T09:04:12.609468",
          "exception": false,
          "start_time": "2020-09-26T09:04:12.549527",
          "status": "completed"
        },
        "tags": [],
        "id": "FglZ-3jJ4-8O"
      },
      "source": [
        "- Average ratings for game will never be relied on id, type and name of game. So we will drop this column from dataset.\n",
        "- Bayes average rating is another form of rating which is used to ensure that highly rated minority interest games are ranked lower than highly rated mass interest games. We should not use this column for making predictions."
      ]
    },
    {
      "cell_type": "code",
      "metadata": {
        "execution": {
          "iopub.execute_input": "2020-09-26T09:04:12.750118Z",
          "iopub.status.busy": "2020-09-26T09:04:12.749432Z",
          "iopub.status.idle": "2020-09-26T09:04:12.751519Z",
          "shell.execute_reply": "2020-09-26T09:04:12.751992Z"
        },
        "papermill": {
          "duration": 0.080633,
          "end_time": "2020-09-26T09:04:12.752142",
          "exception": false,
          "start_time": "2020-09-26T09:04:12.671509",
          "status": "completed"
        },
        "tags": [],
        "id": "OU1z_Uzu4-8P"
      },
      "source": [
        "drop_features = ['id', 'type', 'name', 'bayes_average_rating']\n",
        "data_explore = data_explore.drop(columns=drop_features, axis=1)"
      ],
      "execution_count": null,
      "outputs": []
    },
    {
      "cell_type": "code",
      "metadata": {
        "execution": {
          "iopub.execute_input": "2020-09-26T09:04:12.869121Z",
          "iopub.status.busy": "2020-09-26T09:04:12.868391Z",
          "iopub.status.idle": "2020-09-26T09:04:12.889170Z",
          "shell.execute_reply": "2020-09-26T09:04:12.889747Z"
        },
        "papermill": {
          "duration": 0.081059,
          "end_time": "2020-09-26T09:04:12.889899",
          "exception": false,
          "start_time": "2020-09-26T09:04:12.808840",
          "status": "completed"
        },
        "tags": [],
        "id": "DiaHKkjy4-8Q",
        "outputId": "5f0b6620-d923-4f99-db0d-bdff48ade807"
      },
      "source": [
        "data_explore.info()"
      ],
      "execution_count": null,
      "outputs": [
        {
          "output_type": "stream",
          "text": [
            "<class 'pandas.core.frame.DataFrame'>\n",
            "RangeIndex: 81312 entries, 0 to 81311\n",
            "Data columns (total 16 columns):\n",
            " #   Column          Non-Null Count  Dtype  \n",
            "---  ------          --------------  -----  \n",
            " 0   yearpublished   81309 non-null  float64\n",
            " 1   minplayers      81309 non-null  float64\n",
            " 2   maxplayers      81309 non-null  float64\n",
            " 3   playingtime     81309 non-null  float64\n",
            " 4   minplaytime     81309 non-null  float64\n",
            " 5   maxplaytime     81309 non-null  float64\n",
            " 6   minage          81309 non-null  float64\n",
            " 7   users_rated     81312 non-null  int64  \n",
            " 8   average_rating  81312 non-null  float64\n",
            " 9   total_owners    81312 non-null  int64  \n",
            " 10  total_traders   81312 non-null  int64  \n",
            " 11  total_wanters   81312 non-null  int64  \n",
            " 12  total_wishers   81312 non-null  int64  \n",
            " 13  total_comments  81312 non-null  int64  \n",
            " 14  total_weights   81312 non-null  int64  \n",
            " 15  average_weight  81312 non-null  float64\n",
            "dtypes: float64(9), int64(7)\n",
            "memory usage: 9.9 MB\n"
          ],
          "name": "stdout"
        }
      ]
    },
    {
      "cell_type": "markdown",
      "metadata": {
        "papermill": {
          "duration": 0.05922,
          "end_time": "2020-09-26T09:04:13.008467",
          "exception": false,
          "start_time": "2020-09-26T09:04:12.949247",
          "status": "completed"
        },
        "tags": [],
        "id": "dOtFLAYT4-8R"
      },
      "source": [
        "- Following columns contain null values: yearpublished, minplayers, maxplayers, playingtime, minplaytime, maxplaytime, minage"
      ]
    },
    {
      "cell_type": "code",
      "metadata": {
        "execution": {
          "iopub.execute_input": "2020-09-26T09:04:13.131078Z",
          "iopub.status.busy": "2020-09-26T09:04:13.130372Z",
          "iopub.status.idle": "2020-09-26T09:04:13.241049Z",
          "shell.execute_reply": "2020-09-26T09:04:13.240062Z"
        },
        "papermill": {
          "duration": 0.17204,
          "end_time": "2020-09-26T09:04:13.241186",
          "exception": false,
          "start_time": "2020-09-26T09:04:13.069146",
          "status": "completed"
        },
        "tags": [],
        "id": "G8rsl_C54-8R",
        "outputId": "37170b0f-f6f2-47c8-bfd7-755efcdc8dcc"
      },
      "source": [
        "data_explore.describe()"
      ],
      "execution_count": null,
      "outputs": [
        {
          "output_type": "execute_result",
          "data": {
            "text/html": [
              "<div>\n",
              "<style scoped>\n",
              "    .dataframe tbody tr th:only-of-type {\n",
              "        vertical-align: middle;\n",
              "    }\n",
              "\n",
              "    .dataframe tbody tr th {\n",
              "        vertical-align: top;\n",
              "    }\n",
              "\n",
              "    .dataframe thead th {\n",
              "        text-align: right;\n",
              "    }\n",
              "</style>\n",
              "<table border=\"1\" class=\"dataframe\">\n",
              "  <thead>\n",
              "    <tr style=\"text-align: right;\">\n",
              "      <th></th>\n",
              "      <th>yearpublished</th>\n",
              "      <th>minplayers</th>\n",
              "      <th>maxplayers</th>\n",
              "      <th>playingtime</th>\n",
              "      <th>minplaytime</th>\n",
              "      <th>maxplaytime</th>\n",
              "      <th>minage</th>\n",
              "      <th>users_rated</th>\n",
              "      <th>average_rating</th>\n",
              "      <th>total_owners</th>\n",
              "      <th>total_traders</th>\n",
              "      <th>total_wanters</th>\n",
              "      <th>total_wishers</th>\n",
              "      <th>total_comments</th>\n",
              "      <th>total_weights</th>\n",
              "      <th>average_weight</th>\n",
              "    </tr>\n",
              "  </thead>\n",
              "  <tbody>\n",
              "    <tr>\n",
              "      <th>count</th>\n",
              "      <td>81309.000000</td>\n",
              "      <td>81309.000000</td>\n",
              "      <td>81309.000000</td>\n",
              "      <td>81309.000000</td>\n",
              "      <td>81309.000000</td>\n",
              "      <td>81309.000000</td>\n",
              "      <td>81309.000000</td>\n",
              "      <td>81312.000000</td>\n",
              "      <td>81312.000000</td>\n",
              "      <td>81312.000000</td>\n",
              "      <td>81312.000000</td>\n",
              "      <td>81312.000000</td>\n",
              "      <td>81312.000000</td>\n",
              "      <td>81312.000000</td>\n",
              "      <td>81312.000000</td>\n",
              "      <td>81312.000000</td>\n",
              "    </tr>\n",
              "    <tr>\n",
              "      <th>mean</th>\n",
              "      <td>1806.630668</td>\n",
              "      <td>1.992018</td>\n",
              "      <td>5.637703</td>\n",
              "      <td>51.634788</td>\n",
              "      <td>49.276833</td>\n",
              "      <td>51.634788</td>\n",
              "      <td>6.983975</td>\n",
              "      <td>161.886585</td>\n",
              "      <td>4.212144</td>\n",
              "      <td>262.502509</td>\n",
              "      <td>9.236423</td>\n",
              "      <td>12.688890</td>\n",
              "      <td>42.719144</td>\n",
              "      <td>49.290031</td>\n",
              "      <td>16.488009</td>\n",
              "      <td>0.908083</td>\n",
              "    </tr>\n",
              "    <tr>\n",
              "      <th>std</th>\n",
              "      <td>588.517834</td>\n",
              "      <td>0.931034</td>\n",
              "      <td>56.076890</td>\n",
              "      <td>345.699969</td>\n",
              "      <td>334.483934</td>\n",
              "      <td>345.699969</td>\n",
              "      <td>5.035138</td>\n",
              "      <td>1145.978126</td>\n",
              "      <td>3.056551</td>\n",
              "      <td>1504.536693</td>\n",
              "      <td>39.757408</td>\n",
              "      <td>60.764207</td>\n",
              "      <td>239.292628</td>\n",
              "      <td>284.862853</td>\n",
              "      <td>115.980285</td>\n",
              "      <td>1.176002</td>\n",
              "    </tr>\n",
              "    <tr>\n",
              "      <th>min</th>\n",
              "      <td>-3500.000000</td>\n",
              "      <td>0.000000</td>\n",
              "      <td>0.000000</td>\n",
              "      <td>0.000000</td>\n",
              "      <td>0.000000</td>\n",
              "      <td>0.000000</td>\n",
              "      <td>0.000000</td>\n",
              "      <td>0.000000</td>\n",
              "      <td>0.000000</td>\n",
              "      <td>0.000000</td>\n",
              "      <td>0.000000</td>\n",
              "      <td>0.000000</td>\n",
              "      <td>0.000000</td>\n",
              "      <td>0.000000</td>\n",
              "      <td>0.000000</td>\n",
              "      <td>0.000000</td>\n",
              "    </tr>\n",
              "    <tr>\n",
              "      <th>25%</th>\n",
              "      <td>1984.000000</td>\n",
              "      <td>2.000000</td>\n",
              "      <td>2.000000</td>\n",
              "      <td>8.000000</td>\n",
              "      <td>10.000000</td>\n",
              "      <td>8.000000</td>\n",
              "      <td>0.000000</td>\n",
              "      <td>0.000000</td>\n",
              "      <td>0.000000</td>\n",
              "      <td>1.000000</td>\n",
              "      <td>0.000000</td>\n",
              "      <td>0.000000</td>\n",
              "      <td>0.000000</td>\n",
              "      <td>0.000000</td>\n",
              "      <td>0.000000</td>\n",
              "      <td>0.000000</td>\n",
              "    </tr>\n",
              "    <tr>\n",
              "      <th>50%</th>\n",
              "      <td>2003.000000</td>\n",
              "      <td>2.000000</td>\n",
              "      <td>4.000000</td>\n",
              "      <td>30.000000</td>\n",
              "      <td>30.000000</td>\n",
              "      <td>30.000000</td>\n",
              "      <td>8.000000</td>\n",
              "      <td>2.000000</td>\n",
              "      <td>5.265620</td>\n",
              "      <td>7.000000</td>\n",
              "      <td>0.000000</td>\n",
              "      <td>0.000000</td>\n",
              "      <td>1.000000</td>\n",
              "      <td>1.000000</td>\n",
              "      <td>0.000000</td>\n",
              "      <td>0.000000</td>\n",
              "    </tr>\n",
              "    <tr>\n",
              "      <th>75%</th>\n",
              "      <td>2010.000000</td>\n",
              "      <td>2.000000</td>\n",
              "      <td>6.000000</td>\n",
              "      <td>60.000000</td>\n",
              "      <td>60.000000</td>\n",
              "      <td>60.000000</td>\n",
              "      <td>12.000000</td>\n",
              "      <td>16.000000</td>\n",
              "      <td>6.718777</td>\n",
              "      <td>51.000000</td>\n",
              "      <td>2.000000</td>\n",
              "      <td>3.000000</td>\n",
              "      <td>7.000000</td>\n",
              "      <td>9.000000</td>\n",
              "      <td>2.000000</td>\n",
              "      <td>1.916700</td>\n",
              "    </tr>\n",
              "    <tr>\n",
              "      <th>max</th>\n",
              "      <td>2018.000000</td>\n",
              "      <td>99.000000</td>\n",
              "      <td>11299.000000</td>\n",
              "      <td>60120.000000</td>\n",
              "      <td>60120.000000</td>\n",
              "      <td>60120.000000</td>\n",
              "      <td>120.000000</td>\n",
              "      <td>53680.000000</td>\n",
              "      <td>10.000000</td>\n",
              "      <td>73188.000000</td>\n",
              "      <td>1395.000000</td>\n",
              "      <td>1586.000000</td>\n",
              "      <td>6402.000000</td>\n",
              "      <td>11798.000000</td>\n",
              "      <td>5996.000000</td>\n",
              "      <td>5.000000</td>\n",
              "    </tr>\n",
              "  </tbody>\n",
              "</table>\n",
              "</div>"
            ],
            "text/plain": [
              "       yearpublished    minplayers    maxplayers   playingtime   minplaytime  \\\n",
              "count   81309.000000  81309.000000  81309.000000  81309.000000  81309.000000   \n",
              "mean     1806.630668      1.992018      5.637703     51.634788     49.276833   \n",
              "std       588.517834      0.931034     56.076890    345.699969    334.483934   \n",
              "min     -3500.000000      0.000000      0.000000      0.000000      0.000000   \n",
              "25%      1984.000000      2.000000      2.000000      8.000000     10.000000   \n",
              "50%      2003.000000      2.000000      4.000000     30.000000     30.000000   \n",
              "75%      2010.000000      2.000000      6.000000     60.000000     60.000000   \n",
              "max      2018.000000     99.000000  11299.000000  60120.000000  60120.000000   \n",
              "\n",
              "        maxplaytime        minage   users_rated  average_rating  total_owners  \\\n",
              "count  81309.000000  81309.000000  81312.000000    81312.000000  81312.000000   \n",
              "mean      51.634788      6.983975    161.886585        4.212144    262.502509   \n",
              "std      345.699969      5.035138   1145.978126        3.056551   1504.536693   \n",
              "min        0.000000      0.000000      0.000000        0.000000      0.000000   \n",
              "25%        8.000000      0.000000      0.000000        0.000000      1.000000   \n",
              "50%       30.000000      8.000000      2.000000        5.265620      7.000000   \n",
              "75%       60.000000     12.000000     16.000000        6.718777     51.000000   \n",
              "max    60120.000000    120.000000  53680.000000       10.000000  73188.000000   \n",
              "\n",
              "       total_traders  total_wanters  total_wishers  total_comments  \\\n",
              "count   81312.000000   81312.000000   81312.000000    81312.000000   \n",
              "mean        9.236423      12.688890      42.719144       49.290031   \n",
              "std        39.757408      60.764207     239.292628      284.862853   \n",
              "min         0.000000       0.000000       0.000000        0.000000   \n",
              "25%         0.000000       0.000000       0.000000        0.000000   \n",
              "50%         0.000000       0.000000       1.000000        1.000000   \n",
              "75%         2.000000       3.000000       7.000000        9.000000   \n",
              "max      1395.000000    1586.000000    6402.000000    11798.000000   \n",
              "\n",
              "       total_weights  average_weight  \n",
              "count   81312.000000    81312.000000  \n",
              "mean       16.488009        0.908083  \n",
              "std       115.980285        1.176002  \n",
              "min         0.000000        0.000000  \n",
              "25%         0.000000        0.000000  \n",
              "50%         0.000000        0.000000  \n",
              "75%         2.000000        1.916700  \n",
              "max      5996.000000        5.000000  "
            ]
          },
          "metadata": {
            "tags": []
          },
          "execution_count": 6
        }
      ]
    },
    {
      "cell_type": "markdown",
      "metadata": {
        "papermill": {
          "duration": 0.060229,
          "end_time": "2020-09-26T09:04:13.360146",
          "exception": false,
          "start_time": "2020-09-26T09:04:13.299917",
          "status": "completed"
        },
        "tags": [],
        "id": "tyhy6H7c4-8S"
      },
      "source": [
        "- Observations:\n",
        "    - Minimum value of average rating and average weight is zero which is invalid as per the information given on BGG website. The expected minimum value for both these features should be 1. \n",
        "    - Minimum value in yearpublished column is negative indicating there are games with invalid value of published year.\n",
        "    - Minimum value in users_rated column indicates that there are games for which no user has given rating.\n",
        "    - Statistics of playingtime and maxplaytime columns are same. These are identical columns.\n",
        "    - There are games with zero maximum playing time, zero minimum and/or maximum players required. These can be consider as invalid records.\n",
        "    - There is no categorical feature present in this dataset.\n",
        "    - By comparing max and 75% values of columns such as maxplaytime, minplaytime, users_rated maxplayers, minplayers etc. which tells us there are some outliers present in the dataset.\n",
        "    \n",
        "Let first focus on average rating."
      ]
    },
    {
      "cell_type": "code",
      "metadata": {
        "execution": {
          "iopub.execute_input": "2020-09-26T09:04:13.494196Z",
          "iopub.status.busy": "2020-09-26T09:04:13.493475Z",
          "iopub.status.idle": "2020-09-26T09:04:13.497323Z",
          "shell.execute_reply": "2020-09-26T09:04:13.496627Z"
        },
        "papermill": {
          "duration": 0.074582,
          "end_time": "2020-09-26T09:04:13.497466",
          "exception": false,
          "start_time": "2020-09-26T09:04:13.422884",
          "status": "completed"
        },
        "tags": [],
        "id": "STOzAxUH4-8S"
      },
      "source": [
        "def plot_histogram(data):\n",
        "    ax = plt.gca()\n",
        "    counts, _, patches = ax.hist(data)\n",
        "    for count, patch in zip(counts, patches):\n",
        "        if count>0:\n",
        "            ax.annotate(str(int(count)), xy=(patch.get_x(), patch.get_height()+5))\n",
        "    if data.name:\n",
        "        plt.xlabel(data.name)"
      ],
      "execution_count": null,
      "outputs": []
    },
    {
      "cell_type": "code",
      "metadata": {
        "execution": {
          "iopub.execute_input": "2020-09-26T09:04:13.626197Z",
          "iopub.status.busy": "2020-09-26T09:04:13.625493Z",
          "iopub.status.idle": "2020-09-26T09:04:17.091164Z",
          "shell.execute_reply": "2020-09-26T09:04:17.091788Z"
        },
        "papermill": {
          "duration": 3.533081,
          "end_time": "2020-09-26T09:04:17.091979",
          "exception": false,
          "start_time": "2020-09-26T09:04:13.558898",
          "status": "completed"
        },
        "tags": [],
        "id": "a97ArL9N4-8T",
        "outputId": "8d2d6dd5-932a-4b21-8176-0b558f937bc2"
      },
      "source": [
        "plt.figure(figsize=(15, 25))\n",
        "i=1\n",
        "for col in data_explore.columns:\n",
        "    plt.subplot(6, 3, i)\n",
        "    plot_histogram(data_explore[col])\n",
        "    i+=1"
      ],
      "execution_count": null,
      "outputs": [
        {
          "output_type": "display_data",
          "data": {
            "image/png": "[encoded data removed]",
            "text/plain": [
              "<Figure size 1080x1800 with 16 Axes>"
            ]
          },
          "metadata": {
            "tags": [],
            "needs_background": "light"
          }
        }
      ]
    },
    {
      "cell_type": "code",
      "metadata": {
        "execution": {
          "iopub.execute_input": "2020-09-26T09:04:17.238602Z",
          "iopub.status.busy": "2020-09-26T09:04:17.234920Z",
          "iopub.status.idle": "2020-09-26T09:04:17.442450Z",
          "shell.execute_reply": "2020-09-26T09:04:17.441832Z"
        },
        "papermill": {
          "duration": 0.283848,
          "end_time": "2020-09-26T09:04:17.442592",
          "exception": false,
          "start_time": "2020-09-26T09:04:17.158744",
          "status": "completed"
        },
        "tags": [],
        "id": "Nr1Tg-I54-8T",
        "outputId": "09e25374-133e-4f7a-8a61-ef3da86e2f36"
      },
      "source": [
        "plt.title('Histogram of Average Ratings')\n",
        "plot_histogram(data_explore['average_rating'])"
      ],
      "execution_count": null,
      "outputs": [
        {
          "output_type": "display_data",
          "data": {
            "image/png": "[encoded data removed]",
            "text/plain": [
              "<Figure size 432x288 with 1 Axes>"
            ]
          },
          "metadata": {
            "tags": [],
            "needs_background": "light"
          }
        }
      ]
    },
    {
      "cell_type": "markdown",
      "metadata": {
        "papermill": {
          "duration": 0.062511,
          "end_time": "2020-09-26T09:04:17.568300",
          "exception": false,
          "start_time": "2020-09-26T09:04:17.505789",
          "status": "completed"
        },
        "tags": [],
        "id": "0ViGbeHC4-8U"
      },
      "source": [
        "There are almost 24000 records with zero average ratings.  According to BoardGameGeek, the minimum rating any game can receive is 1. So definately the records of games with zero average rating are not going to any useful for us.\n",
        "\n",
        "Lets explore more about these games with zero ratings."
      ]
    },
    {
      "cell_type": "code",
      "metadata": {
        "execution": {
          "iopub.execute_input": "2020-09-26T09:04:17.706337Z",
          "iopub.status.busy": "2020-09-26T09:04:17.705283Z",
          "iopub.status.idle": "2020-09-26T09:04:17.807998Z",
          "shell.execute_reply": "2020-09-26T09:04:17.807363Z"
        },
        "papermill": {
          "duration": 0.174083,
          "end_time": "2020-09-26T09:04:17.808116",
          "exception": false,
          "start_time": "2020-09-26T09:04:17.634033",
          "status": "completed"
        },
        "tags": [],
        "id": "BEgCOYHR4-8U",
        "outputId": "275438f3-d0d6-4542-9ffc-52c580bf089e"
      },
      "source": [
        "data_explore_zero_ratings = data_explore[data_explore['average_rating']==0]\n",
        "data_explore_zero_ratings.describe()"
      ],
      "execution_count": null,
      "outputs": [
        {
          "output_type": "execute_result",
          "data": {
            "text/html": [
              "<div>\n",
              "<style scoped>\n",
              "    .dataframe tbody tr th:only-of-type {\n",
              "        vertical-align: middle;\n",
              "    }\n",
              "\n",
              "    .dataframe tbody tr th {\n",
              "        vertical-align: top;\n",
              "    }\n",
              "\n",
              "    .dataframe thead th {\n",
              "        text-align: right;\n",
              "    }\n",
              "</style>\n",
              "<table border=\"1\" class=\"dataframe\">\n",
              "  <thead>\n",
              "    <tr style=\"text-align: right;\">\n",
              "      <th></th>\n",
              "      <th>yearpublished</th>\n",
              "      <th>minplayers</th>\n",
              "      <th>maxplayers</th>\n",
              "      <th>playingtime</th>\n",
              "      <th>minplaytime</th>\n",
              "      <th>maxplaytime</th>\n",
              "      <th>minage</th>\n",
              "      <th>users_rated</th>\n",
              "      <th>average_rating</th>\n",
              "      <th>total_owners</th>\n",
              "      <th>total_traders</th>\n",
              "      <th>total_wanters</th>\n",
              "      <th>total_wishers</th>\n",
              "      <th>total_comments</th>\n",
              "      <th>total_weights</th>\n",
              "      <th>average_weight</th>\n",
              "    </tr>\n",
              "  </thead>\n",
              "  <tbody>\n",
              "    <tr>\n",
              "      <th>count</th>\n",
              "      <td>24379.000000</td>\n",
              "      <td>24379.000000</td>\n",
              "      <td>24379.000000</td>\n",
              "      <td>24379.000000</td>\n",
              "      <td>24379.000000</td>\n",
              "      <td>24379.000000</td>\n",
              "      <td>24379.000000</td>\n",
              "      <td>24380.0</td>\n",
              "      <td>24380.0</td>\n",
              "      <td>24380.000000</td>\n",
              "      <td>24380.000000</td>\n",
              "      <td>24380.000000</td>\n",
              "      <td>24380.000000</td>\n",
              "      <td>24380.000000</td>\n",
              "      <td>24380.000000</td>\n",
              "      <td>24380.000000</td>\n",
              "    </tr>\n",
              "    <tr>\n",
              "      <th>mean</th>\n",
              "      <td>1647.510357</td>\n",
              "      <td>1.961606</td>\n",
              "      <td>5.786948</td>\n",
              "      <td>32.313220</td>\n",
              "      <td>30.200008</td>\n",
              "      <td>32.313220</td>\n",
              "      <td>5.562205</td>\n",
              "      <td>0.0</td>\n",
              "      <td>0.0</td>\n",
              "      <td>1.516120</td>\n",
              "      <td>0.079368</td>\n",
              "      <td>0.307588</td>\n",
              "      <td>1.105209</td>\n",
              "      <td>0.230804</td>\n",
              "      <td>0.035439</td>\n",
              "      <td>0.064623</td>\n",
              "    </tr>\n",
              "    <tr>\n",
              "      <th>std</th>\n",
              "      <td>753.173533</td>\n",
              "      <td>1.194273</td>\n",
              "      <td>66.871729</td>\n",
              "      <td>111.860042</td>\n",
              "      <td>108.705701</td>\n",
              "      <td>111.860042</td>\n",
              "      <td>5.129236</td>\n",
              "      <td>0.0</td>\n",
              "      <td>0.0</td>\n",
              "      <td>2.809881</td>\n",
              "      <td>0.369331</td>\n",
              "      <td>1.685498</td>\n",
              "      <td>7.934577</td>\n",
              "      <td>0.693659</td>\n",
              "      <td>0.199406</td>\n",
              "      <td>0.394526</td>\n",
              "    </tr>\n",
              "    <tr>\n",
              "      <th>min</th>\n",
              "      <td>-2500.000000</td>\n",
              "      <td>0.000000</td>\n",
              "      <td>0.000000</td>\n",
              "      <td>0.000000</td>\n",
              "      <td>0.000000</td>\n",
              "      <td>0.000000</td>\n",
              "      <td>0.000000</td>\n",
              "      <td>0.0</td>\n",
              "      <td>0.0</td>\n",
              "      <td>0.000000</td>\n",
              "      <td>0.000000</td>\n",
              "      <td>0.000000</td>\n",
              "      <td>0.000000</td>\n",
              "      <td>0.000000</td>\n",
              "      <td>0.000000</td>\n",
              "      <td>0.000000</td>\n",
              "    </tr>\n",
              "    <tr>\n",
              "      <th>25%</th>\n",
              "      <td>1952.000000</td>\n",
              "      <td>2.000000</td>\n",
              "      <td>2.000000</td>\n",
              "      <td>0.000000</td>\n",
              "      <td>0.000000</td>\n",
              "      <td>0.000000</td>\n",
              "      <td>0.000000</td>\n",
              "      <td>0.0</td>\n",
              "      <td>0.0</td>\n",
              "      <td>0.000000</td>\n",
              "      <td>0.000000</td>\n",
              "      <td>0.000000</td>\n",
              "      <td>0.000000</td>\n",
              "      <td>0.000000</td>\n",
              "      <td>0.000000</td>\n",
              "      <td>0.000000</td>\n",
              "    </tr>\n",
              "    <tr>\n",
              "      <th>50%</th>\n",
              "      <td>1997.000000</td>\n",
              "      <td>2.000000</td>\n",
              "      <td>4.000000</td>\n",
              "      <td>20.000000</td>\n",
              "      <td>15.000000</td>\n",
              "      <td>20.000000</td>\n",
              "      <td>6.000000</td>\n",
              "      <td>0.0</td>\n",
              "      <td>0.0</td>\n",
              "      <td>1.000000</td>\n",
              "      <td>0.000000</td>\n",
              "      <td>0.000000</td>\n",
              "      <td>0.000000</td>\n",
              "      <td>0.000000</td>\n",
              "      <td>0.000000</td>\n",
              "      <td>0.000000</td>\n",
              "    </tr>\n",
              "    <tr>\n",
              "      <th>75%</th>\n",
              "      <td>2010.000000</td>\n",
              "      <td>2.000000</td>\n",
              "      <td>6.000000</td>\n",
              "      <td>45.000000</td>\n",
              "      <td>30.000000</td>\n",
              "      <td>45.000000</td>\n",
              "      <td>10.000000</td>\n",
              "      <td>0.0</td>\n",
              "      <td>0.0</td>\n",
              "      <td>2.000000</td>\n",
              "      <td>0.000000</td>\n",
              "      <td>0.000000</td>\n",
              "      <td>1.000000</td>\n",
              "      <td>0.000000</td>\n",
              "      <td>0.000000</td>\n",
              "      <td>0.000000</td>\n",
              "    </tr>\n",
              "    <tr>\n",
              "      <th>max</th>\n",
              "      <td>2018.000000</td>\n",
              "      <td>99.000000</td>\n",
              "      <td>10000.000000</td>\n",
              "      <td>10000.000000</td>\n",
              "      <td>10000.000000</td>\n",
              "      <td>10000.000000</td>\n",
              "      <td>90.000000</td>\n",
              "      <td>0.0</td>\n",
              "      <td>0.0</td>\n",
              "      <td>87.000000</td>\n",
              "      <td>16.000000</td>\n",
              "      <td>72.000000</td>\n",
              "      <td>424.000000</td>\n",
              "      <td>28.000000</td>\n",
              "      <td>3.000000</td>\n",
              "      <td>5.000000</td>\n",
              "    </tr>\n",
              "  </tbody>\n",
              "</table>\n",
              "</div>"
            ],
            "text/plain": [
              "       yearpublished    minplayers    maxplayers   playingtime   minplaytime  \\\n",
              "count   24379.000000  24379.000000  24379.000000  24379.000000  24379.000000   \n",
              "mean     1647.510357      1.961606      5.786948     32.313220     30.200008   \n",
              "std       753.173533      1.194273     66.871729    111.860042    108.705701   \n",
              "min     -2500.000000      0.000000      0.000000      0.000000      0.000000   \n",
              "25%      1952.000000      2.000000      2.000000      0.000000      0.000000   \n",
              "50%      1997.000000      2.000000      4.000000     20.000000     15.000000   \n",
              "75%      2010.000000      2.000000      6.000000     45.000000     30.000000   \n",
              "max      2018.000000     99.000000  10000.000000  10000.000000  10000.000000   \n",
              "\n",
              "        maxplaytime        minage  users_rated  average_rating  total_owners  \\\n",
              "count  24379.000000  24379.000000      24380.0         24380.0  24380.000000   \n",
              "mean      32.313220      5.562205          0.0             0.0      1.516120   \n",
              "std      111.860042      5.129236          0.0             0.0      2.809881   \n",
              "min        0.000000      0.000000          0.0             0.0      0.000000   \n",
              "25%        0.000000      0.000000          0.0             0.0      0.000000   \n",
              "50%       20.000000      6.000000          0.0             0.0      1.000000   \n",
              "75%       45.000000     10.000000          0.0             0.0      2.000000   \n",
              "max    10000.000000     90.000000          0.0             0.0     87.000000   \n",
              "\n",
              "       total_traders  total_wanters  total_wishers  total_comments  \\\n",
              "count   24380.000000   24380.000000   24380.000000    24380.000000   \n",
              "mean        0.079368       0.307588       1.105209        0.230804   \n",
              "std         0.369331       1.685498       7.934577        0.693659   \n",
              "min         0.000000       0.000000       0.000000        0.000000   \n",
              "25%         0.000000       0.000000       0.000000        0.000000   \n",
              "50%         0.000000       0.000000       0.000000        0.000000   \n",
              "75%         0.000000       0.000000       1.000000        0.000000   \n",
              "max        16.000000      72.000000     424.000000       28.000000   \n",
              "\n",
              "       total_weights  average_weight  \n",
              "count   24380.000000    24380.000000  \n",
              "mean        0.035439        0.064623  \n",
              "std         0.199406        0.394526  \n",
              "min         0.000000        0.000000  \n",
              "25%         0.000000        0.000000  \n",
              "50%         0.000000        0.000000  \n",
              "75%         0.000000        0.000000  \n",
              "max         3.000000        5.000000  "
            ]
          },
          "metadata": {
            "tags": []
          },
          "execution_count": 10
        }
      ]
    },
    {
      "cell_type": "markdown",
      "metadata": {
        "papermill": {
          "duration": 0.06773,
          "end_time": "2020-09-26T09:04:17.942896",
          "exception": false,
          "start_time": "2020-09-26T09:04:17.875166",
          "status": "completed"
        },
        "tags": [],
        "id": "ZMaOgccx4-8U"
      },
      "source": [
        "Above stats tells us that the game which receives zero average rating because there are no users who have given ratings to those games, there are hardly 1 to 2 users who owns or wants this game.\n",
        "\n",
        "Lets get rid of those games with average rating equal to zero."
      ]
    },
    {
      "cell_type": "code",
      "metadata": {
        "execution": {
          "iopub.execute_input": "2020-09-26T09:04:18.096883Z",
          "iopub.status.busy": "2020-09-26T09:04:18.089405Z",
          "iopub.status.idle": "2020-09-26T09:04:18.110321Z",
          "shell.execute_reply": "2020-09-26T09:04:18.109642Z"
        },
        "papermill": {
          "duration": 0.097033,
          "end_time": "2020-09-26T09:04:18.110459",
          "exception": false,
          "start_time": "2020-09-26T09:04:18.013426",
          "status": "completed"
        },
        "tags": [],
        "id": "bLA_-moZ4-8U"
      },
      "source": [
        "data_explore = data_explore[data_explore['average_rating']>0]\n",
        "data = data[data['average_rating']>0] # making this change in orignal dataframe"
      ],
      "execution_count": null,
      "outputs": []
    },
    {
      "cell_type": "code",
      "metadata": {
        "execution": {
          "iopub.execute_input": "2020-09-26T09:04:18.266884Z",
          "iopub.status.busy": "2020-09-26T09:04:18.265107Z",
          "iopub.status.idle": "2020-09-26T09:04:18.462983Z",
          "shell.execute_reply": "2020-09-26T09:04:18.462404Z"
        },
        "papermill": {
          "duration": 0.285083,
          "end_time": "2020-09-26T09:04:18.463116",
          "exception": false,
          "start_time": "2020-09-26T09:04:18.178033",
          "status": "completed"
        },
        "tags": [],
        "id": "Sadn5DCo4-8V",
        "outputId": "c5c34ffb-f9d2-48f6-dcc5-dbd05e5a181e"
      },
      "source": [
        "plt.title('Histogram of Average Ratings')\n",
        "plot_histogram(data_explore['average_rating'])"
      ],
      "execution_count": null,
      "outputs": [
        {
          "output_type": "display_data",
          "data": {
            "image/png": "[encoded data removed]",
            "text/plain": [
              "<Figure size 432x288 with 1 Axes>"
            ]
          },
          "metadata": {
            "tags": [],
            "needs_background": "light"
          }
        }
      ]
    },
    {
      "cell_type": "markdown",
      "metadata": {
        "papermill": {
          "duration": 0.064121,
          "end_time": "2020-09-26T09:04:18.591633",
          "exception": false,
          "start_time": "2020-09-26T09:04:18.527512",
          "status": "completed"
        },
        "tags": [],
        "id": "LO7qcH6G4-8V"
      },
      "source": [
        "We also observe that there are games having average weight equal to zero. We should get rid of those records also."
      ]
    },
    {
      "cell_type": "code",
      "metadata": {
        "execution": {
          "iopub.execute_input": "2020-09-26T09:04:18.741751Z",
          "iopub.status.busy": "2020-09-26T09:04:18.728658Z",
          "iopub.status.idle": "2020-09-26T09:04:18.933279Z",
          "shell.execute_reply": "2020-09-26T09:04:18.932683Z"
        },
        "papermill": {
          "duration": 0.276726,
          "end_time": "2020-09-26T09:04:18.933420",
          "exception": false,
          "start_time": "2020-09-26T09:04:18.656694",
          "status": "completed"
        },
        "tags": [],
        "id": "6pllUHzq4-8V",
        "outputId": "4cc7cf01-2fe1-40d0-8ff1-51fd36fe1216"
      },
      "source": [
        "plt.title('Histogram of Average Weight')\n",
        "plot_histogram(data_explore['average_weight'])"
      ],
      "execution_count": null,
      "outputs": [
        {
          "output_type": "display_data",
          "data": {
            "image/png": "[encoded data removed]",
            "text/plain": [
              "<Figure size 432x288 with 1 Axes>"
            ]
          },
          "metadata": {
            "tags": [],
            "needs_background": "light"
          }
        }
      ]
    },
    {
      "cell_type": "code",
      "metadata": {
        "execution": {
          "iopub.execute_input": "2020-09-26T09:04:19.077056Z",
          "iopub.status.busy": "2020-09-26T09:04:19.076243Z",
          "iopub.status.idle": "2020-09-26T09:04:19.090186Z",
          "shell.execute_reply": "2020-09-26T09:04:19.089444Z"
        },
        "papermill": {
          "duration": 0.087884,
          "end_time": "2020-09-26T09:04:19.090309",
          "exception": false,
          "start_time": "2020-09-26T09:04:19.002425",
          "status": "completed"
        },
        "tags": [],
        "id": "yXtm78Ba4-8W"
      },
      "source": [
        "data_explore = data_explore[data_explore['average_weight']>0]\n",
        "data = data[data['average_weight']>0] # making this change in orignal dataframe"
      ],
      "execution_count": null,
      "outputs": []
    },
    {
      "cell_type": "markdown",
      "metadata": {
        "papermill": {
          "duration": 0.066187,
          "end_time": "2020-09-26T09:04:19.222912",
          "exception": false,
          "start_time": "2020-09-26T09:04:19.156725",
          "status": "completed"
        },
        "tags": [],
        "id": "kpJdjgSt4-8W"
      },
      "source": [
        "We also saw that for some games 'year of published' is negative."
      ]
    },
    {
      "cell_type": "code",
      "metadata": {
        "execution": {
          "iopub.execute_input": "2020-09-26T09:04:19.360973Z",
          "iopub.status.busy": "2020-09-26T09:04:19.360257Z",
          "iopub.status.idle": "2020-09-26T09:04:19.556801Z",
          "shell.execute_reply": "2020-09-26T09:04:19.557298Z"
        },
        "papermill": {
          "duration": 0.267525,
          "end_time": "2020-09-26T09:04:19.557487",
          "exception": false,
          "start_time": "2020-09-26T09:04:19.289962",
          "status": "completed"
        },
        "tags": [],
        "id": "BZ7rZVyt4-8W",
        "outputId": "854f9241-fc57-4d2e-e52f-624b75c7340c"
      },
      "source": [
        "plot_histogram(data_explore['yearpublished'])"
      ],
      "execution_count": null,
      "outputs": [
        {
          "output_type": "display_data",
          "data": {
            "image/png": "[encoded data removed]",
            "text/plain": [
              "<Figure size 432x288 with 1 Axes>"
            ]
          },
          "metadata": {
            "tags": [],
            "needs_background": "light"
          }
        }
      ]
    },
    {
      "cell_type": "markdown",
      "metadata": {
        "papermill": {
          "duration": 0.0672,
          "end_time": "2020-09-26T09:04:19.692939",
          "exception": false,
          "start_time": "2020-09-26T09:04:19.625739",
          "status": "completed"
        },
        "tags": [],
        "id": "WMuHq2Nw4-8W"
      },
      "source": [
        "We can see that for most of games, year of published is above 1500."
      ]
    },
    {
      "cell_type": "code",
      "metadata": {
        "execution": {
          "iopub.execute_input": "2020-09-26T09:04:19.836449Z",
          "iopub.status.busy": "2020-09-26T09:04:19.835133Z",
          "iopub.status.idle": "2020-09-26T09:04:20.055419Z",
          "shell.execute_reply": "2020-09-26T09:04:20.054676Z"
        },
        "papermill": {
          "duration": 0.292061,
          "end_time": "2020-09-26T09:04:20.055545",
          "exception": false,
          "start_time": "2020-09-26T09:04:19.763484",
          "status": "completed"
        },
        "tags": [],
        "id": "PR2hvd0E4-8X",
        "outputId": "49162b5e-c3e8-4203-ed00-5f0a5c39ce66"
      },
      "source": [
        "data_explore = data_explore[data_explore['yearpublished']>0]\n",
        "plot_histogram(data_explore['yearpublished'])"
      ],
      "execution_count": null,
      "outputs": [
        {
          "output_type": "display_data",
          "data": {
            "image/png": "[encoded data removed]",
            "text/plain": [
              "<Figure size 432x288 with 1 Axes>"
            ]
          },
          "metadata": {
            "tags": [],
            "needs_background": "light"
          }
        }
      ]
    },
    {
      "cell_type": "markdown",
      "metadata": {
        "papermill": {
          "duration": 0.070881,
          "end_time": "2020-09-26T09:04:20.198784",
          "exception": false,
          "start_time": "2020-09-26T09:04:20.127903",
          "status": "completed"
        },
        "tags": [],
        "id": "-ALaJC1K4-8X"
      },
      "source": [
        "Again there not so many games prior to middle of 19th century. "
      ]
    },
    {
      "cell_type": "code",
      "metadata": {
        "execution": {
          "iopub.execute_input": "2020-09-26T09:04:20.350280Z",
          "iopub.status.busy": "2020-09-26T09:04:20.344975Z",
          "iopub.status.idle": "2020-09-26T09:04:20.538643Z",
          "shell.execute_reply": "2020-09-26T09:04:20.537952Z"
        },
        "papermill": {
          "duration": 0.269653,
          "end_time": "2020-09-26T09:04:20.538774",
          "exception": false,
          "start_time": "2020-09-26T09:04:20.269121",
          "status": "completed"
        },
        "tags": [],
        "id": "RFstfn8H4-8X",
        "outputId": "cd2ac451-577c-4ad8-fe0e-b14151310372"
      },
      "source": [
        "data_explore_1920 = data_explore.query('yearpublished > 1900 and yearpublished < 2000')\n",
        "plot_histogram(data_explore_1920['yearpublished'])"
      ],
      "execution_count": null,
      "outputs": [
        {
          "output_type": "display_data",
          "data": {
            "image/png": "[encoded data removed]",
            "text/plain": [
              "<Figure size 432x288 with 1 Axes>"
            ]
          },
          "metadata": {
            "tags": [],
            "needs_background": "light"
          }
        }
      ]
    },
    {
      "cell_type": "markdown",
      "metadata": {
        "papermill": {
          "duration": 0.068687,
          "end_time": "2020-09-26T09:04:20.676633",
          "exception": false,
          "start_time": "2020-09-26T09:04:20.607946",
          "status": "completed"
        },
        "tags": [],
        "id": "bq3_X_JK4-8X"
      },
      "source": [
        "- For our problem, I will focus on the games which published after 1950. \n",
        "- Though dropping the records because they are very old in time might not be a good move. But I will prefer to have information about the time period in which board games were more popular and many peoples were playing them as the use of model we are going to build is has  to enable us to make better decisions about game new upcoming games."
      ]
    },
    {
      "cell_type": "code",
      "metadata": {
        "execution": {
          "iopub.execute_input": "2020-09-26T09:04:20.826998Z",
          "iopub.status.busy": "2020-09-26T09:04:20.825666Z",
          "iopub.status.idle": "2020-09-26T09:04:21.048294Z",
          "shell.execute_reply": "2020-09-26T09:04:21.046997Z"
        },
        "papermill": {
          "duration": 0.299906,
          "end_time": "2020-09-26T09:04:21.048590",
          "exception": false,
          "start_time": "2020-09-26T09:04:20.748684",
          "status": "completed"
        },
        "tags": [],
        "id": "WUbL4L_w4-8X",
        "outputId": "6f0ee14a-7351-4f9f-fdaf-6bf2558bca62"
      },
      "source": [
        "data_explore = data_explore[data_explore['yearpublished']>1950]\n",
        "data = data[data['yearpublished']>1950]\n",
        "plot_histogram(data_explore['yearpublished'])"
      ],
      "execution_count": null,
      "outputs": [
        {
          "output_type": "display_data",
          "data": {
            "image/png": "[encoded data removed]",
            "text/plain": [
              "<Figure size 432x288 with 1 Axes>"
            ]
          },
          "metadata": {
            "tags": [],
            "needs_background": "light"
          }
        }
      ]
    },
    {
      "cell_type": "markdown",
      "metadata": {
        "papermill": {
          "duration": 0.069699,
          "end_time": "2020-09-26T09:04:21.191099",
          "exception": false,
          "start_time": "2020-09-26T09:04:21.121400",
          "status": "completed"
        },
        "tags": [],
        "id": "TSR5M_p64-8Y"
      },
      "source": [
        "- It can be seen that the popularity of Board games started to rise in late 90's.\n",
        "- Popularity of board games affects the quality, quantity, longevity and competitions among games. In my opinion these factors can influence the average rating of games. \n",
        "\n",
        "- Lets do the comparision of average rating between Board games published prior to 1985 where games are moderate to less popular and for games which pubilshed after 2000."
      ]
    },
    {
      "cell_type": "code",
      "metadata": {
        "execution": {
          "iopub.execute_input": "2020-09-26T09:04:21.347652Z",
          "iopub.status.busy": "2020-09-26T09:04:21.346494Z",
          "iopub.status.idle": "2020-09-26T09:04:22.194931Z",
          "shell.execute_reply": "2020-09-26T09:04:22.193819Z"
        },
        "papermill": {
          "duration": 0.932162,
          "end_time": "2020-09-26T09:04:22.195087",
          "exception": false,
          "start_time": "2020-09-26T09:04:21.262925",
          "status": "completed"
        },
        "tags": [],
        "id": "H09ItrCS4-8Y",
        "outputId": "c3cccde1-0dc5-40f1-b464-915d2d672fda"
      },
      "source": [
        "data_7585 = data_explore.query('yearpublished >= 1975 and yearpublished <= 1985')\n",
        "data_0515 = data_explore.query('yearpublished >= 2005 and yearpublished <= 2015')\n",
        "\n",
        "plt.figure(figsize=(15, 8))\n",
        "plt.subplot(1, 2, 1)\n",
        "plt.scatter(data_7585['yearpublished'], data_7585['average_rating'], s=data_7585['average_weight']*10)\n",
        "plt.title(\"1975-85 (Games {})\".format(data_7585['yearpublished'].count()))\n",
        "plt.xlabel('Published year')\n",
        "plt.ylabel('Average rating')\n",
        "plt.subplot(1, 2, 2)\n",
        "plt.scatter(data_0515['yearpublished'], data_0515['average_rating'], s=data_0515['average_weight']*10)\n",
        "plt.title(\"2005-15 (Games {})\".format(data_0515['yearpublished'].count()))\n",
        "plt.xlabel('Published year')\n",
        "plt.show()"
      ],
      "execution_count": null,
      "outputs": [
        {
          "output_type": "display_data",
          "data": {
            "image/png": "[encoded data removed]",
            "text/plain": [
              "<Figure size 1080x576 with 2 Axes>"
            ]
          },
          "metadata": {
            "tags": [],
            "needs_background": "light"
          }
        }
      ]
    },
    {
      "cell_type": "markdown",
      "metadata": {
        "papermill": {
          "duration": 0.076734,
          "end_time": "2020-09-26T09:04:22.347559",
          "exception": false,
          "start_time": "2020-09-26T09:04:22.270825",
          "status": "completed"
        },
        "tags": [],
        "id": "y3VNCL2y4-8Y"
      },
      "source": [
        "Have a look at both charts for rating above 7. There are many games in 2015 which has more than 8 ratings. There where hardly few games which receives average rating higher than 7. \n",
        "\n",
        "Note: The size of circle indicates the complexity of games. larger the size larger the complexity."
      ]
    },
    {
      "cell_type": "markdown",
      "metadata": {
        "papermill": {
          "duration": 0.071657,
          "end_time": "2020-09-26T09:04:22.492331",
          "exception": false,
          "start_time": "2020-09-26T09:04:22.420674",
          "status": "completed"
        },
        "tags": [],
        "id": "nq37XTcs4-8Y"
      },
      "source": [
        "Moving on, One of the key observation we made earlier was that some of the columns contains outliers. Lets focus on some of those columns."
      ]
    },
    {
      "cell_type": "code",
      "metadata": {
        "execution": {
          "iopub.execute_input": "2020-09-26T09:04:22.696547Z",
          "iopub.status.busy": "2020-09-26T09:04:22.695264Z",
          "iopub.status.idle": "2020-09-26T09:04:22.941210Z",
          "shell.execute_reply": "2020-09-26T09:04:22.940484Z"
        },
        "papermill": {
          "duration": 0.326709,
          "end_time": "2020-09-26T09:04:22.941336",
          "exception": false,
          "start_time": "2020-09-26T09:04:22.614627",
          "status": "completed"
        },
        "tags": [],
        "id": "I_WNBYE64-8Y",
        "outputId": "8b4c931d-08cd-41c2-e017-469dce242fd8"
      },
      "source": [
        "columns = ['minplaytime', 'maxplaytime', 'minplayers', 'maxplayers', 'users_rated']\n",
        "plt.figure(figsize=(15, 8))\n",
        "sns.boxplot(data=data_explore[columns])\n",
        "plt.ylim(-100, 500)"
      ],
      "execution_count": null,
      "outputs": [
        {
          "output_type": "execute_result",
          "data": {
            "text/plain": [
              "(-100.0, 500.0)"
            ]
          },
          "metadata": {
            "tags": []
          },
          "execution_count": 20
        },
        {
          "output_type": "display_data",
          "data": {
            "image/png": "[encoded data removed]",
            "text/plain": [
              "<Figure size 1080x576 with 1 Axes>"
            ]
          },
          "metadata": {
            "tags": [],
            "needs_background": "light"
          }
        }
      ]
    },
    {
      "cell_type": "markdown",
      "metadata": {
        "papermill": {
          "duration": 0.078492,
          "end_time": "2020-09-26T09:04:23.101045",
          "exception": false,
          "start_time": "2020-09-26T09:04:23.022553",
          "status": "completed"
        },
        "tags": [],
        "id": "Pg7EBxS64-8Z"
      },
      "source": [
        "- We can see there any outliers in each of above features. Lets calculate total number of outliers present in each feature column."
      ]
    },
    {
      "cell_type": "code",
      "metadata": {
        "execution": {
          "iopub.execute_input": "2020-09-26T09:04:23.259751Z",
          "iopub.status.busy": "2020-09-26T09:04:23.259047Z",
          "iopub.status.idle": "2020-09-26T09:04:23.307826Z",
          "shell.execute_reply": "2020-09-26T09:04:23.308438Z"
        },
        "papermill": {
          "duration": 0.131812,
          "end_time": "2020-09-26T09:04:23.308594",
          "exception": false,
          "start_time": "2020-09-26T09:04:23.176782",
          "status": "completed"
        },
        "tags": [],
        "id": "AeLDyWux4-8Z",
        "outputId": "b0e49da8-b23c-496f-fff7-976ba5256d8e"
      },
      "source": [
        "Q1 = data_explore.quantile(0.25)\n",
        "Q3 = data_explore.quantile(0.75)\n",
        "IQR = Q3 - Q1\n",
        "((data_explore < (Q1 - 1.5 * IQR)) | (data_explore > (Q3 + 1.5 * IQR))).sum()"
      ],
      "execution_count": null,
      "outputs": [
        {
          "output_type": "execute_result",
          "data": {
            "text/plain": [
              "yearpublished     1130\n",
              "minplayers        9068\n",
              "maxplayers         688\n",
              "playingtime       1807\n",
              "minplaytime       3115\n",
              "maxplaytime       1807\n",
              "minage              10\n",
              "users_rated       5511\n",
              "average_rating     774\n",
              "total_owners      4928\n",
              "total_traders     4637\n",
              "total_wanters     4845\n",
              "total_wishers     5306\n",
              "total_comments    5218\n",
              "total_weights     5257\n",
              "average_weight     238\n",
              "dtype: int64"
            ]
          },
          "metadata": {
            "tags": []
          },
          "execution_count": 21
        }
      ]
    },
    {
      "cell_type": "markdown",
      "metadata": {
        "papermill": {
          "duration": 0.076426,
          "end_time": "2020-09-26T09:04:23.462253",
          "exception": false,
          "start_time": "2020-09-26T09:04:23.385827",
          "status": "completed"
        },
        "tags": [],
        "id": "3Eiy5vfJ4-8Z"
      },
      "source": [
        "- As we can see, each column has many outliers present. \n",
        "- Since the data is collected by using web-scrapping, there is possibility that the outliers can be the results of mistake made in data-collection process\n",
        "- For now, we will not drop the outliers. Outliers not necessarily affect the models performance.\n",
        "- Since there are outliers, we will replace the null values by median."
      ]
    },
    {
      "cell_type": "code",
      "metadata": {
        "execution": {
          "iopub.execute_input": "2020-09-26T09:04:23.620697Z",
          "iopub.status.busy": "2020-09-26T09:04:23.619829Z",
          "iopub.status.idle": "2020-09-26T09:04:23.957896Z",
          "shell.execute_reply": "2020-09-26T09:04:23.958499Z"
        },
        "papermill": {
          "duration": 0.419222,
          "end_time": "2020-09-26T09:04:23.958660",
          "exception": false,
          "start_time": "2020-09-26T09:04:23.539438",
          "status": "completed"
        },
        "tags": [],
        "id": "IZMp97xJ4-8Z"
      },
      "source": [
        "from sklearn.impute import SimpleImputer\n",
        "\n",
        "imputer = SimpleImputer(strategy='median')"
      ],
      "execution_count": null,
      "outputs": []
    },
    {
      "cell_type": "code",
      "metadata": {
        "execution": {
          "iopub.execute_input": "2020-09-26T09:04:24.124299Z",
          "iopub.status.busy": "2020-09-26T09:04:24.123559Z",
          "iopub.status.idle": "2020-09-26T09:04:24.201598Z",
          "shell.execute_reply": "2020-09-26T09:04:24.200929Z"
        },
        "papermill": {
          "duration": 0.16553,
          "end_time": "2020-09-26T09:04:24.201736",
          "exception": false,
          "start_time": "2020-09-26T09:04:24.036206",
          "status": "completed"
        },
        "tags": [],
        "id": "Ife6Kpmq4-8Z"
      },
      "source": [
        "data_columns = data_explore.columns\n",
        "data_explore = imputer.fit_transform(data_explore)\n",
        "data_explore = pd.DataFrame(data=data_explore, columns=data_columns)"
      ],
      "execution_count": null,
      "outputs": []
    },
    {
      "cell_type": "markdown",
      "metadata": {
        "papermill": {
          "duration": 0.077502,
          "end_time": "2020-09-26T09:04:24.359095",
          "exception": false,
          "start_time": "2020-09-26T09:04:24.281593",
          "status": "completed"
        },
        "tags": [],
        "id": "mI8gK04T4-8Z"
      },
      "source": [
        "We also saw earlier that the playingtime column is same as maxplaying time. So we will drop the playingtime column."
      ]
    },
    {
      "cell_type": "code",
      "metadata": {
        "execution": {
          "iopub.execute_input": "2020-09-26T09:04:24.521802Z",
          "iopub.status.busy": "2020-09-26T09:04:24.520888Z",
          "iopub.status.idle": "2020-09-26T09:04:24.524104Z",
          "shell.execute_reply": "2020-09-26T09:04:24.523512Z"
        },
        "papermill": {
          "duration": 0.087752,
          "end_time": "2020-09-26T09:04:24.524219",
          "exception": false,
          "start_time": "2020-09-26T09:04:24.436467",
          "status": "completed"
        },
        "tags": [],
        "id": "Uwp9DaB24-8Z"
      },
      "source": [
        "drop_features.append('playingtime')\n",
        "data_explore = data_explore.drop(columns=['playingtime'], axis=1)"
      ],
      "execution_count": null,
      "outputs": []
    },
    {
      "cell_type": "markdown",
      "metadata": {
        "papermill": {
          "duration": 0.078452,
          "end_time": "2020-09-26T09:04:24.681294",
          "exception": false,
          "start_time": "2020-09-26T09:04:24.602842",
          "status": "completed"
        },
        "tags": [],
        "id": "yB9ZXom24-8a"
      },
      "source": [
        "Now lets see how features are correlated with average rating. "
      ]
    },
    {
      "cell_type": "code",
      "metadata": {
        "execution": {
          "iopub.execute_input": "2020-09-26T09:04:24.847573Z",
          "iopub.status.busy": "2020-09-26T09:04:24.846825Z",
          "iopub.status.idle": "2020-09-26T09:04:25.930091Z",
          "shell.execute_reply": "2020-09-26T09:04:25.930651Z"
        },
        "papermill": {
          "duration": 1.168926,
          "end_time": "2020-09-26T09:04:25.930804",
          "exception": false,
          "start_time": "2020-09-26T09:04:24.761878",
          "status": "completed"
        },
        "tags": [],
        "id": "bpml8ewT4-8a",
        "outputId": "a7f5eb38-b446-468c-a7e2-ea09cafa0746"
      },
      "source": [
        "plt.figure(figsize=(15, 10))\n",
        "corr_matrix = data_explore.corr()\n",
        "sns.heatmap(corr_matrix, mask=np.zeros_like(corr_matrix, dtype=np.bool), square=True, annot=True)"
      ],
      "execution_count": null,
      "outputs": [
        {
          "output_type": "execute_result",
          "data": {
            "text/plain": [
              "<matplotlib.axes._subplots.AxesSubplot at 0x7f74e1dd04d0>"
            ]
          },
          "metadata": {
            "tags": []
          },
          "execution_count": 25
        },
        {
          "output_type": "display_data",
          "data": {
            "image/png": "[encoded data removed]",
            "text/plain": [
              "<Figure size 1080x720 with 2 Axes>"
            ]
          },
          "metadata": {
            "tags": [],
            "needs_background": "light"
          }
        }
      ]
    },
    {
      "cell_type": "code",
      "metadata": {
        "execution": {
          "iopub.execute_input": "2020-09-26T09:04:26.117231Z",
          "iopub.status.busy": "2020-09-26T09:04:26.116198Z",
          "iopub.status.idle": "2020-09-26T09:04:26.121683Z",
          "shell.execute_reply": "2020-09-26T09:04:26.121065Z"
        },
        "papermill": {
          "duration": 0.103136,
          "end_time": "2020-09-26T09:04:26.121825",
          "exception": false,
          "start_time": "2020-09-26T09:04:26.018689",
          "status": "completed"
        },
        "tags": [],
        "id": "RhYrvoo54-8a",
        "outputId": "654c02e4-e757-4d47-dde7-71e69ab6658c"
      },
      "source": [
        "corr_matrix['average_rating'].sort_values(ascending=False)"
      ],
      "execution_count": null,
      "outputs": [
        {
          "output_type": "execute_result",
          "data": {
            "text/plain": [
              "average_rating    1.000000\n",
              "average_weight    0.460734\n",
              "yearpublished     0.331925\n",
              "total_wanters     0.242133\n",
              "total_wishers     0.211757\n",
              "minage            0.193503\n",
              "total_owners      0.163320\n",
              "total_comments    0.143107\n",
              "users_rated       0.134443\n",
              "total_weights     0.129105\n",
              "total_traders     0.117117\n",
              "maxplaytime       0.055231\n",
              "minplaytime       0.047531\n",
              "maxplayers       -0.013623\n",
              "minplayers       -0.057946\n",
              "Name: average_rating, dtype: float64"
            ]
          },
          "metadata": {
            "tags": []
          },
          "execution_count": 26
        }
      ]
    },
    {
      "cell_type": "markdown",
      "metadata": {
        "papermill": {
          "duration": 0.091829,
          "end_time": "2020-09-26T09:04:26.300199",
          "exception": false,
          "start_time": "2020-09-26T09:04:26.208370",
          "status": "completed"
        },
        "tags": [],
        "id": "jGtQNeP-4-8a"
      },
      "source": [
        "- Observations:\n",
        "    - Average rating is correlated with complexity of game and year in which game was published. Average rating is less correlated with the number of users given rating to the game. I feel this less correlation is good indicator because the ratings should be more depend on what users think about game rather than how many users rate the game.\n",
        "    - Average rating is more correlated with number of people who want the game in trade rather than number of people who owns the game. \n",
        "    - Rating of game is clearly independend of number of players and playing time of game.\n",
        "    - From the correlation plot, we can see that there are many features having fairly strong correlation with other features."
      ]
    },
    {
      "cell_type": "markdown",
      "metadata": {
        "papermill": {
          "duration": 0.086888,
          "end_time": "2020-09-26T09:04:26.476996",
          "exception": false,
          "start_time": "2020-09-26T09:04:26.390108",
          "status": "completed"
        },
        "tags": [],
        "id": "Qu2jKzSU4-8a"
      },
      "source": [
        "## Step 3: Data Preprocessing"
      ]
    },
    {
      "cell_type": "code",
      "metadata": {
        "execution": {
          "iopub.execute_input": "2020-09-26T09:04:26.652075Z",
          "iopub.status.busy": "2020-09-26T09:04:26.651120Z",
          "iopub.status.idle": "2020-09-26T09:04:26.654547Z",
          "shell.execute_reply": "2020-09-26T09:04:26.655092Z"
        },
        "papermill": {
          "duration": 0.092903,
          "end_time": "2020-09-26T09:04:26.655399",
          "exception": false,
          "start_time": "2020-09-26T09:04:26.562496",
          "status": "completed"
        },
        "tags": [],
        "id": "-0DVQDgs4-8a",
        "outputId": "716caec6-2a82-492a-8bab-35205dd22a72"
      },
      "source": [
        "data.shape"
      ],
      "execution_count": null,
      "outputs": [
        {
          "output_type": "execute_result",
          "data": {
            "text/plain": [
              "(33634, 20)"
            ]
          },
          "metadata": {
            "tags": []
          },
          "execution_count": 27
        }
      ]
    },
    {
      "cell_type": "markdown",
      "metadata": {
        "papermill": {
          "duration": 0.086048,
          "end_time": "2020-09-26T09:04:26.832602",
          "exception": false,
          "start_time": "2020-09-26T09:04:26.746554",
          "status": "completed"
        },
        "tags": [],
        "id": "lPaKU3hx4-8a"
      },
      "source": [
        "In orignal dataset we had more than 80000 records but because of many invalid values for some attributes we had to remove those records."
      ]
    },
    {
      "cell_type": "markdown",
      "metadata": {
        "papermill": {
          "duration": 0.08079,
          "end_time": "2020-09-26T09:04:26.995286",
          "exception": false,
          "start_time": "2020-09-26T09:04:26.914496",
          "status": "completed"
        },
        "tags": [],
        "id": "ndlXF-nl4-8b"
      },
      "source": [
        "Lets now get ready with training and testing datasets."
      ]
    },
    {
      "cell_type": "code",
      "metadata": {
        "execution": {
          "iopub.execute_input": "2020-09-26T09:04:27.165168Z",
          "iopub.status.busy": "2020-09-26T09:04:27.163973Z",
          "iopub.status.idle": "2020-09-26T09:04:27.170154Z",
          "shell.execute_reply": "2020-09-26T09:04:27.170637Z"
        },
        "papermill": {
          "duration": 0.092306,
          "end_time": "2020-09-26T09:04:27.170794",
          "exception": false,
          "start_time": "2020-09-26T09:04:27.078488",
          "status": "completed"
        },
        "tags": [],
        "id": "FYxWRape4-8b"
      },
      "source": [
        "y = data[['average_rating']].copy()\n",
        "X = data.drop(columns=['average_rating'], axis=1)"
      ],
      "execution_count": null,
      "outputs": []
    },
    {
      "cell_type": "code",
      "metadata": {
        "execution": {
          "iopub.execute_input": "2020-09-26T09:04:27.334531Z",
          "iopub.status.busy": "2020-09-26T09:04:27.333793Z",
          "iopub.status.idle": "2020-09-26T09:04:27.348034Z",
          "shell.execute_reply": "2020-09-26T09:04:27.348763Z"
        },
        "papermill": {
          "duration": 0.09831,
          "end_time": "2020-09-26T09:04:27.348950",
          "exception": false,
          "start_time": "2020-09-26T09:04:27.250640",
          "status": "completed"
        },
        "tags": [],
        "id": "1QPhZilD4-8b"
      },
      "source": [
        "from sklearn.model_selection import train_test_split\n",
        "\n",
        "X_train, X_test, y_train, y_test = train_test_split(X, y, test_size=0.2, random_state=42)"
      ],
      "execution_count": null,
      "outputs": []
    },
    {
      "cell_type": "markdown",
      "metadata": {
        "papermill": {
          "duration": 0.081387,
          "end_time": "2020-09-26T09:04:27.515147",
          "exception": false,
          "start_time": "2020-09-26T09:04:27.433760",
          "status": "completed"
        },
        "tags": [],
        "id": "nh-7ggyt4-8b"
      },
      "source": [
        "We are going to build a pipeline which will take care of the data cleaning and model training.\n",
        "\n",
        "In data cleaning process we will focus on following aspects of data:\n",
        "1. drop unnecessary features\n",
        "2. replace null values\n",
        "3. standardization of features"
      ]
    },
    {
      "cell_type": "code",
      "metadata": {
        "execution": {
          "iopub.execute_input": "2020-09-26T09:04:27.692971Z",
          "iopub.status.busy": "2020-09-26T09:04:27.692089Z",
          "iopub.status.idle": "2020-09-26T09:04:27.694146Z",
          "shell.execute_reply": "2020-09-26T09:04:27.693604Z"
        },
        "papermill": {
          "duration": 0.097224,
          "end_time": "2020-09-26T09:04:27.694277",
          "exception": false,
          "start_time": "2020-09-26T09:04:27.597053",
          "status": "completed"
        },
        "tags": [],
        "id": "Rr9L24eg4-8b"
      },
      "source": [
        "feature_columns =[ feature for feature in list(X.columns) if feature not in drop_features ]"
      ],
      "execution_count": null,
      "outputs": []
    },
    {
      "cell_type": "code",
      "metadata": {
        "execution": {
          "iopub.execute_input": "2020-09-26T09:04:27.869430Z",
          "iopub.status.busy": "2020-09-26T09:04:27.868731Z",
          "iopub.status.idle": "2020-09-26T09:04:27.882028Z",
          "shell.execute_reply": "2020-09-26T09:04:27.882583Z"
        },
        "papermill": {
          "duration": 0.102859,
          "end_time": "2020-09-26T09:04:27.882758",
          "exception": false,
          "start_time": "2020-09-26T09:04:27.779899",
          "status": "completed"
        },
        "tags": [],
        "id": "-W08xjyy4-8b"
      },
      "source": [
        "from sklearn.compose import ColumnTransformer\n",
        "\n",
        "drop_feature_cols = ColumnTransformer(transformers=[('drop_columns', 'drop', drop_features)], remainder='passthrough')"
      ],
      "execution_count": null,
      "outputs": []
    },
    {
      "cell_type": "code",
      "metadata": {
        "execution": {
          "iopub.execute_input": "2020-09-26T09:04:28.065856Z",
          "iopub.status.busy": "2020-09-26T09:04:28.065135Z",
          "iopub.status.idle": "2020-09-26T09:04:28.067936Z",
          "shell.execute_reply": "2020-09-26T09:04:28.067212Z"
        },
        "papermill": {
          "duration": 0.101883,
          "end_time": "2020-09-26T09:04:28.068055",
          "exception": false,
          "start_time": "2020-09-26T09:04:27.966172",
          "status": "completed"
        },
        "tags": [],
        "id": "4SRhfhHk4-8b"
      },
      "source": [
        "from sklearn.impute import SimpleImputer\n",
        "from sklearn.preprocessing import StandardScaler\n",
        "from sklearn.pipeline import Pipeline"
      ],
      "execution_count": null,
      "outputs": []
    },
    {
      "cell_type": "code",
      "metadata": {
        "execution": {
          "iopub.execute_input": "2020-09-26T09:04:28.245501Z",
          "iopub.status.busy": "2020-09-26T09:04:28.244770Z",
          "iopub.status.idle": "2020-09-26T09:04:28.247916Z",
          "shell.execute_reply": "2020-09-26T09:04:28.247287Z"
        },
        "papermill": {
          "duration": 0.093282,
          "end_time": "2020-09-26T09:04:28.248036",
          "exception": false,
          "start_time": "2020-09-26T09:04:28.154754",
          "status": "completed"
        },
        "tags": [],
        "id": "3LoWR9tA4-8b"
      },
      "source": [
        "pre_process = Pipeline(steps=[('drop_features', drop_feature_cols),\n",
        "                              ('imputer', SimpleImputer(strategy=\"median\")),\n",
        "                              ('scaler', StandardScaler())])"
      ],
      "execution_count": null,
      "outputs": []
    },
    {
      "cell_type": "code",
      "metadata": {
        "execution": {
          "iopub.execute_input": "2020-09-26T09:04:28.430126Z",
          "iopub.status.busy": "2020-09-26T09:04:28.429200Z",
          "iopub.status.idle": "2020-09-26T09:04:28.493034Z",
          "shell.execute_reply": "2020-09-26T09:04:28.493581Z"
        },
        "papermill": {
          "duration": 0.161698,
          "end_time": "2020-09-26T09:04:28.493758",
          "exception": false,
          "start_time": "2020-09-26T09:04:28.332060",
          "status": "completed"
        },
        "tags": [],
        "id": "NKKJJEbu4-8c"
      },
      "source": [
        "X_train_transformed = pre_process.fit_transform(X_train)\n",
        "X_test_transformed = pre_process.transform(X_test)"
      ],
      "execution_count": null,
      "outputs": []
    },
    {
      "cell_type": "markdown",
      "metadata": {
        "papermill": {
          "duration": 0.082882,
          "end_time": "2020-09-26T09:04:28.665090",
          "exception": false,
          "start_time": "2020-09-26T09:04:28.582208",
          "status": "completed"
        },
        "tags": [],
        "id": "732OHZOX4-8c"
      },
      "source": [
        "## Step 4: Select and Train a model"
      ]
    },
    {
      "cell_type": "markdown",
      "metadata": {
        "papermill": {
          "duration": 0.085778,
          "end_time": "2020-09-26T09:04:28.834166",
          "exception": false,
          "start_time": "2020-09-26T09:04:28.748388",
          "status": "completed"
        },
        "tags": [],
        "id": "oK89xdNe4-8c"
      },
      "source": [
        "In data exploration step we found out two key facts about the dataset:\n",
        "* Many features are correlated with each other.\n",
        "* Many feature contains outliers.\n",
        "\n",
        "\n",
        "- Having correlated features might affect performance of linear model but for tree-based models correlated feature is not a concern.\n",
        "- I will use following machine learning algorithms:\n",
        "    * Linear Regression\n",
        "    * Decision Tree\n",
        "    * Random Forest\n",
        "   \n",
        "   \n",
        "- RMSE will the performance metric to evaluate model's performance."
      ]
    },
    {
      "cell_type": "code",
      "metadata": {
        "execution": {
          "iopub.execute_input": "2020-09-26T09:04:29.010008Z",
          "iopub.status.busy": "2020-09-26T09:04:29.009227Z",
          "iopub.status.idle": "2020-09-26T09:04:29.013251Z",
          "shell.execute_reply": "2020-09-26T09:04:29.012492Z"
        },
        "papermill": {
          "duration": 0.097113,
          "end_time": "2020-09-26T09:04:29.013405",
          "exception": false,
          "start_time": "2020-09-26T09:04:28.916292",
          "status": "completed"
        },
        "tags": [],
        "id": "sW-eInwz4-8c"
      },
      "source": [
        "from sklearn.model_selection import cross_val_score\n",
        "\n",
        "def cv_results(model, X, y):\n",
        "    scores = cross_val_score(model, X, y, cv = 7, scoring=\"neg_mean_squared_error\", n_jobs=-1)\n",
        "    rmse_scores = np.sqrt(-scores)\n",
        "    print('CV Scores: ', rmse_scores)\n",
        "    print('rmse: {},  S.D.:{} '.format(np.mean(rmse_scores), np.std(rmse_scores)))"
      ],
      "execution_count": null,
      "outputs": []
    },
    {
      "cell_type": "markdown",
      "metadata": {
        "papermill": {
          "duration": 0.103608,
          "end_time": "2020-09-26T09:04:29.205332",
          "exception": false,
          "start_time": "2020-09-26T09:04:29.101724",
          "status": "completed"
        },
        "tags": [],
        "id": "_2SXcaSf4-8c"
      },
      "source": [
        "### Linear Regression"
      ]
    },
    {
      "cell_type": "code",
      "metadata": {
        "execution": {
          "iopub.execute_input": "2020-09-26T09:04:29.386854Z",
          "iopub.status.busy": "2020-09-26T09:04:29.385724Z",
          "iopub.status.idle": "2020-09-26T09:04:29.463645Z",
          "shell.execute_reply": "2020-09-26T09:04:29.464315Z"
        },
        "papermill": {
          "duration": 0.171826,
          "end_time": "2020-09-26T09:04:29.464513",
          "exception": false,
          "start_time": "2020-09-26T09:04:29.292687",
          "status": "completed"
        },
        "tags": [],
        "id": "46TYTSNC4-8c",
        "outputId": "8f2ad9b5-59da-4382-b0a7-09d95b7c7984"
      },
      "source": [
        "from sklearn.linear_model import LinearRegression\n",
        "\n",
        "linear_reg = LinearRegression()\n",
        "linear_reg.fit(X_train_transformed, y_train)"
      ],
      "execution_count": null,
      "outputs": [
        {
          "output_type": "execute_result",
          "data": {
            "text/plain": [
              "LinearRegression()"
            ]
          },
          "metadata": {
            "tags": []
          },
          "execution_count": 36
        }
      ]
    },
    {
      "cell_type": "code",
      "metadata": {
        "execution": {
          "iopub.execute_input": "2020-09-26T09:04:29.679525Z",
          "iopub.status.busy": "2020-09-26T09:04:29.678776Z",
          "iopub.status.idle": "2020-09-26T09:04:29.682874Z",
          "shell.execute_reply": "2020-09-26T09:04:29.682132Z"
        },
        "papermill": {
          "duration": 0.109692,
          "end_time": "2020-09-26T09:04:29.683004",
          "exception": false,
          "start_time": "2020-09-26T09:04:29.573312",
          "status": "completed"
        },
        "tags": [],
        "id": "6BBMWx6y4-8c",
        "outputId": "b4120089-b6c6-4538-f818-960826752db3"
      },
      "source": [
        "coefs = list(zip(feature_columns, linear_reg.coef_[0]))\n",
        "coefs.sort(key= lambda x:x[1], reverse=True)\n",
        "coefs"
      ],
      "execution_count": null,
      "outputs": [
        {
          "output_type": "execute_result",
          "data": {
            "text/plain": [
              "[('total_owners', 0.6576882366241986),\n",
              " ('average_weight', 0.5126529732113667),\n",
              " ('total_comments', 0.4832520211840855),\n",
              " ('yearpublished', 0.37073992219430557),\n",
              " ('total_wanters', 0.34631752491016926),\n",
              " ('minage', 0.07519147370986894),\n",
              " ('maxplaytime', 0.033603915880423205),\n",
              " ('maxplayers', -0.0019632103727661703),\n",
              " ('minplayers', -0.026238267772323434),\n",
              " ('minplaytime', -0.03494261715412286),\n",
              " ('total_weights', -0.07194238297124059),\n",
              " ('total_traders', -0.17174770967771166),\n",
              " ('total_wishers', -0.28960523955095785),\n",
              " ('users_rated', -0.8042442110486802)]"
            ]
          },
          "metadata": {
            "tags": []
          },
          "execution_count": 37
        }
      ]
    },
    {
      "cell_type": "markdown",
      "metadata": {
        "papermill": {
          "duration": 0.089443,
          "end_time": "2020-09-26T09:04:29.863243",
          "exception": false,
          "start_time": "2020-09-26T09:04:29.773800",
          "status": "completed"
        },
        "tags": [],
        "id": "eaij59lS4-8d"
      },
      "source": [
        "We expect that the features which are strongly correlated with target variable to have high coefficient value compare to others.\n",
        "\n",
        "Some interasting facts: \n",
        "- The model has given high weight to 'total_owners' feature than 'average_weight' and 'total_wanters'. Even though the latter two are more correlated with average rating than total_owners.\n",
        "- Very less weight is given to 'users_rated' feature compare to other features like maxplaytime, minplaytime, etc.\n",
        "    \n",
        "This indicates Linear Regression gives much importance to number of people who owns the game rather than the people who wants this game in trade for prediction of average rating."
      ]
    },
    {
      "cell_type": "code",
      "metadata": {
        "execution": {
          "iopub.execute_input": "2020-09-26T09:04:30.048850Z",
          "iopub.status.busy": "2020-09-26T09:04:30.047803Z",
          "iopub.status.idle": "2020-09-26T09:04:32.483748Z",
          "shell.execute_reply": "2020-09-26T09:04:32.481365Z"
        },
        "papermill": {
          "duration": 2.532283,
          "end_time": "2020-09-26T09:04:32.483944",
          "exception": false,
          "start_time": "2020-09-26T09:04:29.951661",
          "status": "completed"
        },
        "tags": [],
        "id": "jGuuTz724-8d",
        "outputId": "9144c23e-8633-48e2-a164-5ff6efc80357"
      },
      "source": [
        "print(\"Linear Regression Model Cross Validation Results\")\n",
        "cv_results(linear_reg, X_train_transformed, y_train)"
      ],
      "execution_count": null,
      "outputs": [
        {
          "output_type": "stream",
          "text": [
            "Linear Regression Model Cross Validation Results\n",
            "CV Scores:  [1.02706089 1.02270487 1.04810006 1.01816366 1.0549294  1.06746754\n",
            " 1.03547664]\n",
            "rmse: 1.0391290094549217,  S.D.:0.016909345373193923 \n"
          ],
          "name": "stdout"
        }
      ]
    },
    {
      "cell_type": "markdown",
      "metadata": {
        "papermill": {
          "duration": 0.092508,
          "end_time": "2020-09-26T09:04:32.678416",
          "exception": false,
          "start_time": "2020-09-26T09:04:32.585908",
          "status": "completed"
        },
        "tags": [],
        "id": "ZZu11HdF4-8d"
      },
      "source": [
        "Variance of 2 in the prediciton of rating is not very good. \n",
        "Can we reduce the variance by reducing the correlation among feature variables.\n",
        "\n",
        "Lets apply PCA technique to remove the correlation among input features."
      ]
    },
    {
      "cell_type": "code",
      "metadata": {
        "execution": {
          "iopub.execute_input": "2020-09-26T09:04:32.861171Z",
          "iopub.status.busy": "2020-09-26T09:04:32.859745Z",
          "iopub.status.idle": "2020-09-26T09:04:32.893274Z",
          "shell.execute_reply": "2020-09-26T09:04:32.893952Z"
        },
        "papermill": {
          "duration": 0.129334,
          "end_time": "2020-09-26T09:04:32.894112",
          "exception": false,
          "start_time": "2020-09-26T09:04:32.764778",
          "status": "completed"
        },
        "tags": [],
        "id": "X6UUuUWe4-8d",
        "outputId": "853281dc-d4be-4b72-cc1e-21304f8e0238"
      },
      "source": [
        "from sklearn.decomposition import PCA\n",
        "\n",
        "pca = PCA(n_components=0.95)   # Keeping variance 95% so that we will not loose much information.\n",
        "X_train_reduced = pca.fit_transform(X_train_transformed)\n",
        "X_test_reduced = pca.transform(X_test_transformed)\n",
        "pca.n_components_, X_train_reduced.shape[1]"
      ],
      "execution_count": null,
      "outputs": [
        {
          "output_type": "execute_result",
          "data": {
            "text/plain": [
              "(8, 8)"
            ]
          },
          "metadata": {
            "tags": []
          },
          "execution_count": 39
        }
      ]
    },
    {
      "cell_type": "code",
      "metadata": {
        "execution": {
          "iopub.execute_input": "2020-09-26T09:04:33.094343Z",
          "iopub.status.busy": "2020-09-26T09:04:33.093617Z",
          "iopub.status.idle": "2020-09-26T09:04:33.104210Z",
          "shell.execute_reply": "2020-09-26T09:04:33.103535Z"
        },
        "papermill": {
          "duration": 0.123594,
          "end_time": "2020-09-26T09:04:33.104380",
          "exception": false,
          "start_time": "2020-09-26T09:04:32.980786",
          "status": "completed"
        },
        "tags": [],
        "id": "vNhvdDld4-8d",
        "outputId": "ed5166b7-43bb-4fb0-bb85-a967f77578a9"
      },
      "source": [
        "linear_reg.fit(X_train_reduced, y_train)"
      ],
      "execution_count": null,
      "outputs": [
        {
          "output_type": "execute_result",
          "data": {
            "text/plain": [
              "LinearRegression()"
            ]
          },
          "metadata": {
            "tags": []
          },
          "execution_count": 40
        }
      ]
    },
    {
      "cell_type": "code",
      "metadata": {
        "execution": {
          "iopub.execute_input": "2020-09-26T09:04:33.301320Z",
          "iopub.status.busy": "2020-09-26T09:04:33.300615Z",
          "iopub.status.idle": "2020-09-26T09:04:33.374466Z",
          "shell.execute_reply": "2020-09-26T09:04:33.373097Z"
        },
        "papermill": {
          "duration": 0.171567,
          "end_time": "2020-09-26T09:04:33.374729",
          "exception": false,
          "start_time": "2020-09-26T09:04:33.203162",
          "status": "completed"
        },
        "tags": [],
        "id": "eSD4OfNx4-8d",
        "outputId": "1cdc3ee2-d46e-498a-acf3-2f44d6564531"
      },
      "source": [
        "print(\"Linear Regression Model Cross Validation Results\")\n",
        "cv_results(linear_reg, X_train_reduced, y_train)"
      ],
      "execution_count": null,
      "outputs": [
        {
          "output_type": "stream",
          "text": [
            "Linear Regression Model Cross Validation Results\n",
            "CV Scores:  [1.04013529 1.03443327 1.05961725 1.02983227 1.07128507 1.07926553\n",
            " 1.04580214]\n",
            "rmse: 1.051481545531458,  S.D.:0.017528129501031994 \n"
          ],
          "name": "stdout"
        }
      ]
    },
    {
      "cell_type": "markdown",
      "metadata": {
        "papermill": {
          "duration": 0.091159,
          "end_time": "2020-09-26T09:04:33.554624",
          "exception": false,
          "start_time": "2020-09-26T09:04:33.463465",
          "status": "completed"
        },
        "tags": [],
        "id": "XDZRkyox4-8d"
      },
      "source": [
        "Unfortunately we didn't got any improvement in results. The only improvement we got is reduced in training time, which not our concern for this problem.\n",
        "\n",
        "What effect the multicollinearity has on the model performance is well descibed on following link:\n",
        "<br>https://datascience.stackexchange.com/questions/24452/in-supervised-learning-why-is-it-bad-to-have-correlated-features\n",
        "<br>\n",
        "\n",
        "- Few important learnings:\n",
        "    - In case of supervised learning for predictions, the only reason for removing the multicollinearity is improve the training time and reduce the storage.\n",
        "    - If we add so much correlated features to the model we may cause the model to consider unnecessary features and we may have curse of high dimensionality problem.\n",
        "    - Multicollinearity affects the coefficients and p-values, but it does not influence the predictions, precision of the predictions, and the goodness-of-fit statistics. If your primary goal is to make predictions, and you don’t need to understand the role of each independent variable, you don’t need to reduce severe multicollinearity."
      ]
    },
    {
      "cell_type": "markdown",
      "metadata": {
        "papermill": {
          "duration": 0.089047,
          "end_time": "2020-09-26T09:04:33.733709",
          "exception": false,
          "start_time": "2020-09-26T09:04:33.644662",
          "status": "completed"
        },
        "tags": [],
        "id": "6ltsNzVt4-8e"
      },
      "source": [
        "Now lets shift our focus on tree-based models. We will first implement Decision tree and then see if we get any improvement in result by implementing Random Forest."
      ]
    },
    {
      "cell_type": "markdown",
      "metadata": {
        "papermill": {
          "duration": 0.090595,
          "end_time": "2020-09-26T09:04:33.913516",
          "exception": false,
          "start_time": "2020-09-26T09:04:33.822921",
          "status": "completed"
        },
        "tags": [],
        "id": "57BWmNGt4-8e"
      },
      "source": [
        "### Decision Tree Regression"
      ]
    },
    {
      "cell_type": "code",
      "metadata": {
        "execution": {
          "iopub.execute_input": "2020-09-26T09:04:34.099454Z",
          "iopub.status.busy": "2020-09-26T09:04:34.098485Z",
          "iopub.status.idle": "2020-09-26T09:04:34.478371Z",
          "shell.execute_reply": "2020-09-26T09:04:34.477791Z"
        },
        "papermill": {
          "duration": 0.476934,
          "end_time": "2020-09-26T09:04:34.478513",
          "exception": false,
          "start_time": "2020-09-26T09:04:34.001579",
          "status": "completed"
        },
        "tags": [],
        "id": "5jNhOkvU4-8e",
        "outputId": "6e29eb16-7ca4-4448-8445-c72e0ddd89cf"
      },
      "source": [
        "from sklearn.tree import DecisionTreeRegressor\n",
        "tree_reg = DecisionTreeRegressor(criterion='mse', random_state=42)\n",
        "tree_reg.fit(X_train_transformed, y_train)"
      ],
      "execution_count": null,
      "outputs": [
        {
          "output_type": "execute_result",
          "data": {
            "text/plain": [
              "DecisionTreeRegressor(random_state=42)"
            ]
          },
          "metadata": {
            "tags": []
          },
          "execution_count": 42
        }
      ]
    },
    {
      "cell_type": "code",
      "metadata": {
        "execution": {
          "iopub.execute_input": "2020-09-26T09:04:34.660174Z",
          "iopub.status.busy": "2020-09-26T09:04:34.659098Z",
          "iopub.status.idle": "2020-09-26T09:04:34.667397Z",
          "shell.execute_reply": "2020-09-26T09:04:34.666336Z"
        },
        "papermill": {
          "duration": 0.102782,
          "end_time": "2020-09-26T09:04:34.667542",
          "exception": false,
          "start_time": "2020-09-26T09:04:34.564760",
          "status": "completed"
        },
        "tags": [],
        "id": "IL35Bov54-8e",
        "outputId": "b713f36b-cdb0-4c2e-b452-5c84109cd4f7"
      },
      "source": [
        "coefs = list(zip(feature_columns, tree_reg.feature_importances_))\n",
        "coefs.sort(key= lambda x:x[1], reverse=True)\n",
        "coefs"
      ],
      "execution_count": null,
      "outputs": [
        {
          "output_type": "execute_result",
          "data": {
            "text/plain": [
              "[('average_weight', 0.22537284549323108),\n",
              " ('yearpublished', 0.18664828188076868),\n",
              " ('total_owners', 0.08694781728850191),\n",
              " ('total_wanters', 0.07677285852993217),\n",
              " ('total_wishers', 0.06996944498428948),\n",
              " ('users_rated', 0.05717299009351274),\n",
              " ('total_comments', 0.04958228381917326),\n",
              " ('maxplayers', 0.049390042604165595),\n",
              " ('minage', 0.047507375837024614),\n",
              " ('total_traders', 0.043221988530391775),\n",
              " ('maxplaytime', 0.03414154922796625),\n",
              " ('minplaytime', 0.03218695047855731),\n",
              " ('total_weights', 0.021069206803395014),\n",
              " ('minplayers', 0.020016364429090085)]"
            ]
          },
          "metadata": {
            "tags": []
          },
          "execution_count": 43
        }
      ]
    },
    {
      "cell_type": "markdown",
      "metadata": {
        "papermill": {
          "duration": 0.087587,
          "end_time": "2020-09-26T09:04:34.843240",
          "exception": false,
          "start_time": "2020-09-26T09:04:34.755653",
          "status": "completed"
        },
        "tags": [],
        "id": "pQ5yzEM64-8e"
      },
      "source": [
        "- Decision Tree has given more importance to the total_wisher and yearpublished features than average_weight and total_wanters.\n",
        "- This is completely different from what we recieved from Linear Regression. Linear Regressor model has given very less weights to total_wishers and yearpublished.\n",
        "- This model has give more importance to total wishers and year in which game has been published."
      ]
    },
    {
      "cell_type": "code",
      "metadata": {
        "execution": {
          "iopub.execute_input": "2020-09-26T09:04:35.027960Z",
          "iopub.status.busy": "2020-09-26T09:04:35.027183Z",
          "iopub.status.idle": "2020-09-26T09:04:36.020420Z",
          "shell.execute_reply": "2020-09-26T09:04:36.019591Z"
        },
        "papermill": {
          "duration": 1.089313,
          "end_time": "2020-09-26T09:04:36.020583",
          "exception": false,
          "start_time": "2020-09-26T09:04:34.931270",
          "status": "completed"
        },
        "tags": [],
        "id": "9N9Zkfrm4-8e",
        "outputId": "b6f8f690-ce87-4c11-909e-61783e50cc41"
      },
      "source": [
        "print(\"Decision Tree Regression Model Cross Validation Results\")\n",
        "cv_results(tree_reg, X_train_transformed, y_train)"
      ],
      "execution_count": null,
      "outputs": [
        {
          "output_type": "stream",
          "text": [
            "Decision Tree Regression Model Cross Validation Results\n",
            "CV Scores:  [1.23198988 1.26554687 1.29659923 1.25348246 1.25443881 1.31554695\n",
            " 1.31003377]\n",
            "rmse: 1.2753768528017415,  S.D.:0.029669493603739123 \n"
          ],
          "name": "stdout"
        }
      ]
    },
    {
      "cell_type": "markdown",
      "metadata": {
        "papermill": {
          "duration": 0.125816,
          "end_time": "2020-09-26T09:04:36.245059",
          "exception": false,
          "start_time": "2020-09-26T09:04:36.119243",
          "status": "completed"
        },
        "tags": [],
        "id": "7HdaQG2T4-8e"
      },
      "source": [
        "This is even worse than Linear Regression. Lets see what we get from Random Forest."
      ]
    },
    {
      "cell_type": "markdown",
      "metadata": {
        "papermill": {
          "duration": 0.089465,
          "end_time": "2020-09-26T09:04:36.427979",
          "exception": false,
          "start_time": "2020-09-26T09:04:36.338514",
          "status": "completed"
        },
        "tags": [],
        "id": "Gn-MDxwz4-8f"
      },
      "source": [
        "### Random Forest"
      ]
    },
    {
      "cell_type": "code",
      "metadata": {
        "execution": {
          "iopub.execute_input": "2020-09-26T09:04:36.612774Z",
          "iopub.status.busy": "2020-09-26T09:04:36.611857Z",
          "iopub.status.idle": "2020-09-26T09:04:44.556504Z",
          "shell.execute_reply": "2020-09-26T09:04:44.557178Z"
        },
        "papermill": {
          "duration": 8.042511,
          "end_time": "2020-09-26T09:04:44.557380",
          "exception": false,
          "start_time": "2020-09-26T09:04:36.514869",
          "status": "completed"
        },
        "tags": [],
        "id": "LdonFKEa4-8f",
        "outputId": "8e9c2a5a-7127-4a7f-af99-9a5c9ef1ebb3"
      },
      "source": [
        "from sklearn.ensemble import RandomForestRegressor\n",
        "forest_reg = RandomForestRegressor(criterion='mse', random_state=42, n_jobs=-1)\n",
        "forest_reg.fit(X_train_transformed, y_train.values.flatten())"
      ],
      "execution_count": null,
      "outputs": [
        {
          "output_type": "execute_result",
          "data": {
            "text/plain": [
              "RandomForestRegressor(n_jobs=-1, random_state=42)"
            ]
          },
          "metadata": {
            "tags": []
          },
          "execution_count": 45
        }
      ]
    },
    {
      "cell_type": "code",
      "metadata": {
        "execution": {
          "iopub.execute_input": "2020-09-26T09:04:44.747318Z",
          "iopub.status.busy": "2020-09-26T09:04:44.746649Z",
          "iopub.status.idle": "2020-09-26T09:04:44.857820Z",
          "shell.execute_reply": "2020-09-26T09:04:44.858458Z"
        },
        "papermill": {
          "duration": 0.208499,
          "end_time": "2020-09-26T09:04:44.858631",
          "exception": false,
          "start_time": "2020-09-26T09:04:44.650132",
          "status": "completed"
        },
        "tags": [],
        "id": "DzDzlmzb4-8f",
        "outputId": "375f7afc-f9ac-493c-f9ca-620a00268f81"
      },
      "source": [
        "coefs = list(zip(feature_columns, forest_reg.feature_importances_))\n",
        "coefs.sort(key= lambda x:x[1], reverse=True)\n",
        "coefs"
      ],
      "execution_count": null,
      "outputs": [
        {
          "output_type": "execute_result",
          "data": {
            "text/plain": [
              "[('average_weight', 0.22818949303577196),\n",
              " ('yearpublished', 0.18972519738463842),\n",
              " ('total_owners', 0.0832583568673036),\n",
              " ('total_wishers', 0.07769288420010727),\n",
              " ('total_wanters', 0.07173358704614646),\n",
              " ('users_rated', 0.05802361026084752),\n",
              " ('total_comments', 0.04808680012568092),\n",
              " ('maxplayers', 0.04731882593137503),\n",
              " ('minage', 0.045669737106090395),\n",
              " ('total_traders', 0.044992224507481096),\n",
              " ('maxplaytime', 0.03168176685543045),\n",
              " ('minplaytime', 0.031498122544615384),\n",
              " ('total_weights', 0.022231486104823298),\n",
              " ('minplayers', 0.019897908029688098)]"
            ]
          },
          "metadata": {
            "tags": []
          },
          "execution_count": 46
        }
      ]
    },
    {
      "cell_type": "code",
      "metadata": {
        "execution": {
          "iopub.execute_input": "2020-09-26T09:04:45.050763Z",
          "iopub.status.busy": "2020-09-26T09:04:45.050001Z",
          "iopub.status.idle": "2020-09-26T09:05:32.336849Z",
          "shell.execute_reply": "2020-09-26T09:05:32.337470Z"
        },
        "papermill": {
          "duration": 47.387813,
          "end_time": "2020-09-26T09:05:32.337637",
          "exception": false,
          "start_time": "2020-09-26T09:04:44.949824",
          "status": "completed"
        },
        "tags": [],
        "id": "K5jxAMTy4-8f",
        "outputId": "fc030f1e-560d-4862-d8bb-1217277d94a1"
      },
      "source": [
        "print(\"Random Forest Regression Model Cross Validation Results\")\n",
        "cv_results(forest_reg, X_train_transformed, y_train.values.flatten())"
      ],
      "execution_count": null,
      "outputs": [
        {
          "output_type": "stream",
          "text": [
            "Random Forest Regression Model Cross Validation Results\n",
            "CV Scores:  [0.87418532 0.90405801 0.89337311 0.87699087 0.88317166 0.9490283\n",
            " 0.90549277]\n",
            "rmse: 0.8980428636946934,  S.D.:0.023744251698571025 \n"
          ],
          "name": "stdout"
        }
      ]
    },
    {
      "cell_type": "markdown",
      "metadata": {
        "papermill": {
          "duration": 0.091381,
          "end_time": "2020-09-26T09:05:32.520630",
          "exception": false,
          "start_time": "2020-09-26T09:05:32.429249",
          "status": "completed"
        },
        "tags": [],
        "id": "OtuLWpPb4-8f"
      },
      "source": [
        "Much better result. Now lets tune the Random Forest model to obtain best model which we can use as our final model."
      ]
    },
    {
      "cell_type": "markdown",
      "metadata": {
        "papermill": {
          "duration": 0.094994,
          "end_time": "2020-09-26T09:05:32.706609",
          "exception": false,
          "start_time": "2020-09-26T09:05:32.611615",
          "status": "completed"
        },
        "tags": [],
        "id": "_hN-Ltkz4-8g"
      },
      "source": [
        "## Step 5: Fine Tune a Model"
      ]
    },
    {
      "cell_type": "code",
      "metadata": {
        "execution": {
          "iopub.execute_input": "2020-09-26T09:05:32.902090Z",
          "iopub.status.busy": "2020-09-26T09:05:32.901274Z",
          "iopub.status.idle": "2020-09-26T09:08:35.552458Z",
          "shell.execute_reply": "2020-09-26T09:08:35.553022Z"
        },
        "papermill": {
          "duration": 182.753704,
          "end_time": "2020-09-26T09:08:35.553183",
          "exception": false,
          "start_time": "2020-09-26T09:05:32.799479",
          "status": "completed"
        },
        "tags": [],
        "id": "sSbYvlKv4-8g",
        "outputId": "73e4b79d-67a5-4baf-d4cd-f4f20a29d533"
      },
      "source": [
        "from sklearn.model_selection import GridSearchCV\n",
        "\n",
        "grid_parm=[{'n_estimators':[25, 50, 75, 100], 'max_depth':[4, 8, 12, 16]}]\n",
        "grid_search = GridSearchCV(RandomForestRegressor(random_state=42, n_jobs=-1), grid_parm, cv=5, scoring=\"neg_mean_squared_error\", return_train_score=True, n_jobs=-1)\n",
        "grid_search.fit(X_train_transformed, y_train.values.flatten())"
      ],
      "execution_count": null,
      "outputs": [
        {
          "output_type": "execute_result",
          "data": {
            "text/plain": [
              "GridSearchCV(cv=5, estimator=RandomForestRegressor(n_jobs=-1, random_state=42),\n",
              "             n_jobs=-1,\n",
              "             param_grid=[{'max_depth': [4, 8, 12, 16],\n",
              "                          'n_estimators': [25, 50, 75, 100]}],\n",
              "             return_train_score=True, scoring='neg_mean_squared_error')"
            ]
          },
          "metadata": {
            "tags": []
          },
          "execution_count": 48
        }
      ]
    },
    {
      "cell_type": "code",
      "metadata": {
        "execution": {
          "iopub.execute_input": "2020-09-26T09:08:35.765092Z",
          "iopub.status.busy": "2020-09-26T09:08:35.761729Z",
          "iopub.status.idle": "2020-09-26T09:08:35.772650Z",
          "shell.execute_reply": "2020-09-26T09:08:35.773569Z"
        },
        "papermill": {
          "duration": 0.119248,
          "end_time": "2020-09-26T09:08:35.773837",
          "exception": false,
          "start_time": "2020-09-26T09:08:35.654589",
          "status": "completed"
        },
        "tags": [],
        "id": "TgXRW33O4-8g",
        "outputId": "9362d884-e5cb-4674-f040-d40ea60f3dff"
      },
      "source": [
        "cvres = grid_search.cv_results_\n",
        "print(\"Results for each run of Random Forest Regression...\")\n",
        "for train_mean_score, test_mean_score, params in zip(cvres[\"mean_train_score\"], cvres[\"mean_test_score\"], cvres[\"params\"]):\n",
        "    print(np.sqrt(-train_mean_score), np.sqrt(-test_mean_score), params)"
      ],
      "execution_count": null,
      "outputs": [
        {
          "output_type": "stream",
          "text": [
            "Results for each run of Random Forest Regression...\n",
            "0.9758715413537408 0.9817814203817975 {'max_depth': 4, 'n_estimators': 25}\n",
            "0.9755665131267356 0.9813034056981195 {'max_depth': 4, 'n_estimators': 50}\n",
            "0.9752296363324573 0.9809430061888917 {'max_depth': 4, 'n_estimators': 75}\n",
            "0.9750655022881299 0.980790400285451 {'max_depth': 4, 'n_estimators': 100}\n",
            "0.8630246687410261 0.9253573272010367 {'max_depth': 8, 'n_estimators': 25}\n",
            "0.861753946194949 0.9237655412614119 {'max_depth': 8, 'n_estimators': 50}\n",
            "0.8613405890363531 0.9230654119860545 {'max_depth': 8, 'n_estimators': 75}\n",
            "0.8609544422375149 0.9227212956986226 {'max_depth': 8, 'n_estimators': 100}\n",
            "0.6717165690558268 0.9039957381345787 {'max_depth': 12, 'n_estimators': 25}\n",
            "0.6673220725341659 0.8998782466034849 {'max_depth': 12, 'n_estimators': 50}\n",
            "0.6663273740581338 0.8982962173511108 {'max_depth': 12, 'n_estimators': 75}\n",
            "0.6652738543705128 0.8972253003432472 {'max_depth': 12, 'n_estimators': 100}\n",
            "0.48305281358907676 0.9067101848025837 {'max_depth': 16, 'n_estimators': 25}\n",
            "0.4729048326356134 0.8984643608095955 {'max_depth': 16, 'n_estimators': 50}\n",
            "0.4706338766731354 0.8960595014062938 {'max_depth': 16, 'n_estimators': 75}\n",
            "0.4684126699311548 0.8947030271040232 {'max_depth': 16, 'n_estimators': 100}\n"
          ],
          "name": "stdout"
        }
      ]
    },
    {
      "cell_type": "code",
      "metadata": {
        "execution": {
          "iopub.execute_input": "2020-09-26T09:08:35.988262Z",
          "iopub.status.busy": "2020-09-26T09:08:35.987561Z",
          "iopub.status.idle": "2020-09-26T09:08:35.991280Z",
          "shell.execute_reply": "2020-09-26T09:08:35.991906Z"
        },
        "papermill": {
          "duration": 0.122404,
          "end_time": "2020-09-26T09:08:35.992068",
          "exception": false,
          "start_time": "2020-09-26T09:08:35.869664",
          "status": "completed"
        },
        "tags": [],
        "id": "IPrYsBJx4-8g",
        "outputId": "6d1d3378-828a-4893-b6b5-de3259fc7209"
      },
      "source": [
        "grid_search.best_params_, -grid_search.best_score_"
      ],
      "execution_count": null,
      "outputs": [
        {
          "output_type": "execute_result",
          "data": {
            "text/plain": [
              "({'max_depth': 16, 'n_estimators': 100}, 0.8004935067091024)"
            ]
          },
          "metadata": {
            "tags": []
          },
          "execution_count": 50
        }
      ]
    },
    {
      "cell_type": "markdown",
      "metadata": {
        "papermill": {
          "duration": 0.099029,
          "end_time": "2020-09-26T09:08:36.195185",
          "exception": false,
          "start_time": "2020-09-26T09:08:36.096156",
          "status": "completed"
        },
        "tags": [],
        "id": "8EO4kiVW4-8g"
      },
      "source": [
        "- If observe the train and test scores, There is not so much improvement in test score after parameter set {'max_depth': 12, 'n_estimators': 100}. On other side, RMSE is keep reducing as the max_depth is increasing. This indicates that if we continue to increase the max_depth model will start to overfit the training dataset.\n",
        "- So I have decided to use model with parameters {'max_depth': 12, 'n_estimators': 100}. "
      ]
    },
    {
      "cell_type": "code",
      "metadata": {
        "execution": {
          "iopub.execute_input": "2020-09-26T09:08:36.390717Z",
          "iopub.status.busy": "2020-09-26T09:08:36.389981Z",
          "iopub.status.idle": "2020-09-26T09:08:36.396534Z",
          "shell.execute_reply": "2020-09-26T09:08:36.397161Z"
        },
        "papermill": {
          "duration": 0.105103,
          "end_time": "2020-09-26T09:08:36.397328",
          "exception": false,
          "start_time": "2020-09-26T09:08:36.292225",
          "status": "completed"
        },
        "tags": [],
        "id": "0wUyu7PQ4-8g",
        "outputId": "941478d2-2556-4175-a482-dca6f0ebc0de"
      },
      "source": [
        "best_forest_reg = grid_search.best_estimator_\n",
        "best_forest_reg.max_depth=12\n",
        "best_forest_reg"
      ],
      "execution_count": null,
      "outputs": [
        {
          "output_type": "execute_result",
          "data": {
            "text/plain": [
              "RandomForestRegressor(max_depth=12, n_jobs=-1, random_state=42)"
            ]
          },
          "metadata": {
            "tags": []
          },
          "execution_count": 51
        }
      ]
    },
    {
      "cell_type": "markdown",
      "metadata": {
        "papermill": {
          "duration": 0.117507,
          "end_time": "2020-09-26T09:08:36.608757",
          "exception": false,
          "start_time": "2020-09-26T09:08:36.491250",
          "status": "completed"
        },
        "tags": [],
        "id": "YyHDDQwv4-8g"
      },
      "source": [
        "## Step 6: Model Evaluation"
      ]
    },
    {
      "cell_type": "code",
      "metadata": {
        "execution": {
          "iopub.execute_input": "2020-09-26T09:08:36.810651Z",
          "iopub.status.busy": "2020-09-26T09:08:36.809904Z",
          "iopub.status.idle": "2020-09-26T09:08:45.264891Z",
          "shell.execute_reply": "2020-09-26T09:08:45.264093Z"
        },
        "papermill": {
          "duration": 8.558604,
          "end_time": "2020-09-26T09:08:45.265026",
          "exception": false,
          "start_time": "2020-09-26T09:08:36.706422",
          "status": "completed"
        },
        "scrolled": true,
        "tags": [],
        "id": "u-sMt1af4-8h",
        "outputId": "364164de-6565-4be5-d677-c0ac8fdf7b01"
      },
      "source": [
        "print(\"Best Random Forest Cross Validation Results\")\n",
        "cv_results(best_forest_reg, X_test_transformed, y_test)"
      ],
      "execution_count": null,
      "outputs": [
        {
          "output_type": "stream",
          "text": [
            "Best Random Forest Cross Validation Results\n",
            "CV Scores:  [0.91088247 0.86458168 0.88719952 0.8707708  0.88148208 0.87550818\n",
            " 0.88089255]\n",
            "rmse: 0.881616755178887,  S.D.:0.013801320292708726 \n"
          ],
          "name": "stdout"
        }
      ]
    },
    {
      "cell_type": "markdown",
      "metadata": {
        "papermill": {
          "duration": 0.094907,
          "end_time": "2020-09-26T09:08:45.454675",
          "exception": false,
          "start_time": "2020-09-26T09:08:45.359768",
          "status": "completed"
        },
        "tags": [],
        "id": "7-qQQIEg4-8h"
      },
      "source": [
        "We also got much better RMSE on test dataset."
      ]
    }
  ]
}